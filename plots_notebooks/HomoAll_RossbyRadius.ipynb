{
 "cells": [
  {
   "cell_type": "code",
   "execution_count": 1,
   "metadata": {},
   "outputs": [],
   "source": [
    "using AvailablePotentialEnergyFramework, Statistics, JLD, NCDatasets, BenchmarkTools, ProgressMeter"
   ]
  },
  {
   "cell_type": "code",
   "execution_count": 2,
   "metadata": {},
   "outputs": [
    {
     "data": {
      "text/plain": [
       "\"/global/u2/a/aramreye/RamirezReyes_Yang_2020_SpontaneousCyclogenesis/plotsandanimations/\""
      ]
     },
     "execution_count": 2,
     "metadata": {},
     "output_type": "execute_result"
    }
   ],
   "source": [
    "data_dir = \"/global/cscratch1/sd/aramreye/for_postprocessing/largencfiles/\"\n",
    "output_dir = \"/global/u2/a/aramreye/RamirezReyes_Yang_2020_SpontaneousCyclogenesis/plotsandanimations/\""
   ]
  },
  {
   "cell_type": "code",
   "execution_count": 3,
   "metadata": {},
   "outputs": [
    {
     "data": {
      "text/plain": [
       "3-element Array{String,1}:\n",
       " \"f1e-4_2km_1000km_homoRad_homoSfc_3d.nc\"\n",
       " \"f3e-4_2km_1000km_homoRad_homoSfc_3d.nc\"\n",
       " \"f5e-4_2km_1000km_homoRad_homoSfc_3d.nc\""
      ]
     },
     "execution_count": 3,
     "metadata": {},
     "output_type": "execute_result"
    }
   ],
   "source": [
    "file_list = [\"f1e-4_2km_1000km_homoRad_homoSfc_3d.nc\",\n",
    "\"f3e-4_2km_1000km_homoRad_homoSfc_3d.nc\",\n",
    "\"f5e-4_2km_1000km_homoRad_homoSfc_3d.nc\"]"
   ]
  },
  {
   "cell_type": "code",
   "execution_count": 4,
   "metadata": {},
   "outputs": [
    {
     "data": {
      "text/plain": [
       "1006.0f0"
      ]
     },
     "execution_count": 4,
     "metadata": {},
     "output_type": "execute_result"
    }
   ],
   "source": [
    "const R = Float32(Dryair.R)\n",
    "const cp = Float32(Dryair.cp)"
   ]
  },
  {
   "cell_type": "code",
   "execution_count": 26,
   "metadata": {},
   "outputs": [
    {
     "data": {
      "text/plain": [
       "N2 (generic function with 1 method)"
      ]
     },
     "execution_count": 26,
     "metadata": {},
     "output_type": "execute_result"
    }
   ],
   "source": [
    "function N2(exp_name,buf1,buf2,buf3,buf4,ind1,ind2)\n",
    "    data_dir = \"$(ENV[\"SCRATCH\"])/for_postprocessing/largencfiles/\"\n",
    "    c1 :: Float32 = Float32(R/cp)\n",
    "    z = Float32[50 100 150 200 250 300 350 400 450 500 550 600 650 700 750 800 850 900 950 1000 1050 1178.57142857143 1385.71428571429 1671.42857142857 2035.71428571429 2478.57142857143 3000 3600 4200 4800 5400 6000 6600 7200 7800 8400 9000 9600 10200 10800 11400 12000 12600 13200 13800 14400 15000 15600 16200 16800 17400 18000 18600 19200 19800 20400 21000 21600 22200 22800 23400 24000 24600 25200 25800 26400 27000 27600 28200 28800 29400 30000 30600 31200 31800 32400 33000 33600 34200 34800][1:50];\n",
    "    ds = Dataset(joinpath(data_dir,exp_name))\n",
    "    P0 = 1f2ds[\"p\"].var[1:50] :: Array{Float32,1}\n",
    "    N2 = zeros(Float32,50)\n",
    "    nchunks = 12\n",
    "    timesteps_per_chunk = (ind2-ind1 + 1) ÷ nchunks\n",
    "    #@inbounds @showprogress 1  for chunk in 1:nchunks\n",
    "    @inbounds @showprogress 1 for timeind in ind1:ind2\n",
    "        #@show initial_tind = ((chunk - 1) * timesteps_per_chunk) + 1\n",
    "        #@show final_tind = (chunk * timesteps_per_chunk)\n",
    "        initial_timeind = timeind\n",
    "        final_timeind = timeind\n",
    "        NCDatasets.load!(ds[\"TABS\"].var,buf1,1:512,1:512,1:50,initial_timeind:final_timeind)\n",
    "        NCDatasets.load!(ds[\"PP\"].var,buf2,1:512,1:512,1:50,initial_timeind:final_timeind)\n",
    "        NCDatasets.load!(ds[\"QV\"].var,buf3,1:512,1:512,1:50,initial_timeind:final_timeind)       \n",
    "        @inbounds for ind in CartesianIndices(buf1)\n",
    "            buf2[ind]  = buf2[ind] + P0[ind[3]]\n",
    "            buf1[ind]  = buf1[ind] * (one(c1) + 1f-3Float32(epsilon)*buf3[ind])\n",
    "            buf1[ind]  = buf1[ind] * (P0[1]/buf2[ind])^c1\n",
    "        end\n",
    "        mean!(buf4,buf1) #xBar_ThetaV  = \n",
    "        N2[:] .+= compute_N2(buf4,z)[:]\n",
    "    end\n",
    "    N2 ./ (ind2-ind1)\n",
    "    close(ds)\n",
    "end    "
   ]
  },
  {
   "cell_type": "code",
   "execution_count": null,
   "metadata": {},
   "outputs": [],
   "source": [
    "varinfo()"
   ]
  },
  {
   "cell_type": "code",
   "execution_count": null,
   "metadata": {},
   "outputs": [],
   "source": [
    "1+1"
   ]
  },
  {
   "cell_type": "code",
   "execution_count": 21,
   "metadata": {},
   "outputs": [],
   "source": [
    "buf1 = Array{Float32,3}(undef,512,512,50)\n",
    "buf2 = Array{Float32,3}(undef,512,512,50)\n",
    "buf3 = Array{Float32,3}(undef,512,512,50)\n",
    "buf4 = Array{Float32,3}(undef,1,1,50);"
   ]
  },
  {
   "cell_type": "code",
   "execution_count": null,
   "metadata": {},
   "outputs": [],
   "source": [
    "#@btime N2(\"f5e-4_2km_1000km_homoRad_homoSfc_3d.nc\",$buf1,$buf2,$buf3,$buf4,600,1200);\n",
    "#@code_warntype N2(\"f5e-4_2km_1000km_homoRad_homoSfc_3d.nc\",buf1,buf2,buf3,buf4,600,601);"
   ]
  },
  {
   "cell_type": "code",
   "execution_count": 27,
   "metadata": {},
   "outputs": [
    {
     "name": "stderr",
     "output_type": "stream",
     "text": [
      "\u001b[32mProgress: 100%|█████████████████████████████████████████| Time: 0:35:48\u001b[39m\n",
      "\u001b[32mProgress: 100%|█████████████████████████████████████████| Time: 0:40:33\u001b[39m\n",
      "\u001b[32mProgress: 100%|█████████████████████████████████████████| Time: 0:48:40\u001b[39m\n"
     ]
    }
   ],
   "source": [
    "N2_homoRad_homoSfc = N2(\"f5e-4_2km_1000km_homoRad_homoSfc_3d.nc\",buf1,buf2,buf3,buf4,1,1200)\n",
    "N2_homoRad_homoSfc_f1 = N2(\"f1e-4_2km_1000km_homoRad_homoSfc_3d.nc\",buf1,buf2,buf3,buf4,1,1200)\n",
    "N2_homoRad_homoSfc_f3 = N2(\"f3e-4_2km_1000km_homoRad_homoSfc_3d.nc\",buf1,buf2,buf3,buf4,1,1200);"
   ]
  },
  {
   "cell_type": "code",
   "execution_count": null,
   "metadata": {},
   "outputs": [],
   "source": [
    "varinfo()"
   ]
  },
  {
   "cell_type": "code",
   "execution_count": 6,
   "metadata": {},
   "outputs": [
    {
     "data": {
      "text/plain": [
       "get_tropo (generic function with 1 method)"
      ]
     },
     "execution_count": 6,
     "metadata": {},
     "output_type": "execute_result"
    }
   ],
   "source": [
    "function get_tropo(buf1,buf2,exp_name,z,ind1,ind2)\n",
    "    data_dir = \"$(ENV[\"SCRATCH\"])/for_postprocessing/largencfiles/\"\n",
    " \tmean_qrad = Dataset(joinpath(data_dir,exp_name)) do ds\n",
    "        mean_qrad = Array{Float32,1}(undef,80);\n",
    "        for timeind in ind1:ind2\n",
    "            NCDatasets.load!(ds[\"QRAD\"].var,buf1,1:512,1:512,1:80,timeind:timeind)\n",
    "            mean_qrad[:] .+= mean!(buf2,buf1)[:]\n",
    "        end\n",
    "        mean_qrad\n",
    "    end\n",
    "    z[findmin(abs.(mean_qrad[1:50]))[2]]\n",
    "end"
   ]
  },
  {
   "cell_type": "code",
   "execution_count": 7,
   "metadata": {},
   "outputs": [],
   "source": [
    "z_grd = Float32[50 100 150 200 250 300 350 400 450 500 550 600 650 700 750 800 850 900 950 1000 1050 1178.57142857143 1385.71428571429 1671.42857142857 2035.71428571429 2478.57142857143 3000 3600 4200 4800 5400 6000 6600 7200 7800 8400 9000 9600 10200 10800 11400 12000 12600 13200 13800 14400 15000 15600 16200 16800 17400 18000 18600 19200 19800 20400 21000 21600 22200 22800 23400 24000 24600 25200 25800 26400 27000 27600 28200 28800 29400 30000 30600 31200 31800 32400 33000 33600 34200 34800];"
   ]
  },
  {
   "cell_type": "code",
   "execution_count": 8,
   "metadata": {},
   "outputs": [
    {
     "ename": "LoadError",
     "evalue": "UndefVarError: buf1 not defined",
     "output_type": "error",
     "traceback": [
      "UndefVarError: buf1 not defined",
      "",
      "Stacktrace:",
      " [1] top-level scope at In[8]:1",
      " [2] include_string(::Function, ::Module, ::String, ::String) at ./loading.jl:1091"
     ]
    }
   ],
   "source": [
    "tropo_homoRad_homoSfc = get_tropo(buf1,buf4,\"f5e-4_2km_1000km_homoRad_homoSfc_3d.nc\",z_grd,1,1200)\n",
    "tropo_homoRad_homoSfc_f1 = get_tropo(buf1,buf4,\"f1e-4_2km_1000km_homoRad_homoSfc_3d.nc\",z_grd,1,1200)\n",
    "tropo_homoRad_homoSfc_f3 = get_tropo(buf1,buf4,\"f3e-4_2km_1000km_homoRad_homoSfc_3d.nc\",z_grd,1,1200)"
   ]
  },
  {
   "cell_type": "code",
   "execution_count": 1,
   "metadata": {},
   "outputs": [
    {
     "ename": "LoadError",
     "evalue": "UndefVarError: tropo_homoRad_homoSfc not defined",
     "output_type": "error",
     "traceback": [
      "UndefVarError: tropo_homoRad_homoSfc not defined",
      "",
      "Stacktrace:",
      " [1] top-level scope at show.jl:641",
      " [2] include_string(::Function, ::Module, ::String, ::String) at ./loading.jl:1091"
     ]
    }
   ],
   "source": [
    "@show tropo_homoRad_homoSfc\n",
    "@show tropo_homoRad_homoSfc_f1\n",
    "@show tropo_homoRad_homoSfc_f3"
   ]
  },
  {
   "cell_type": "code",
   "execution_count": 2,
   "metadata": {},
   "outputs": [
    {
     "data": {
      "text/plain": [
       "rossby_radius_of_deformation (generic function with 1 method)"
      ]
     },
     "execution_count": 2,
     "metadata": {},
     "output_type": "execute_result"
    }
   ],
   "source": [
    "function rossby_radius_of_deformation(brunt_vaisala,tropopause_height,coriolis_parameter)\n",
    "    return brunt_vaisala*tropopause_height/coriolis_parameter\n",
    "end"
   ]
  },
  {
   "cell_type": "code",
   "execution_count": 3,
   "metadata": {},
   "outputs": [
    {
     "ename": "LoadError",
     "evalue": "UndefVarError: tropo_homoRad_homoSfc not defined",
     "output_type": "error",
     "traceback": [
      "UndefVarError: tropo_homoRad_homoSfc not defined",
      "",
      "Stacktrace:",
      " [1] top-level scope at In[3]:1",
      " [2] include_string(::Function, ::Module, ::String, ::String) at ./loading.jl:1091"
     ]
    }
   ],
   "source": [
    "N_homoAll = sqrt(mean(N2_homoRad_homoSfc[25:findfirst(==(tropo_homoRad_homoSfc),z_grd)[2]]))\n",
    "N_homoAll_f1 = sqrt(mean(N2_homoRad_homoSfc_f1[25:findfirst(==(tropo_homoRad_homoSfc_f1),z_grd)[2]]))\n",
    "N_homoAll_f3 = sqrt(mean(N2_homoRad_homoSfc_f3[25:findfirst(==(tropo_homoRad_homoSfc_f3),z_grd)[2]]))"
   ]
  },
  {
   "cell_type": "code",
   "execution_count": 4,
   "metadata": {},
   "outputs": [
    {
     "ename": "LoadError",
     "evalue": "UndefVarError: N_homoAll not defined",
     "output_type": "error",
     "traceback": [
      "UndefVarError: N_homoAll not defined",
      "",
      "Stacktrace:",
      " [1] top-level scope at show.jl:641",
      " [2] include_string(::Function, ::Module, ::String, ::String) at ./loading.jl:1091"
     ]
    }
   ],
   "source": [
    "@show r0_homoAll = rossby_radius_of_deformation(N_homoAll,tropo_homoRad_homoSfc,4.97e-4)\n",
    "@show r0_homoAll_f1 = rossby_radius_of_deformation(N_homoAll_f1,tropo_homoRad_homoSfc_f1,1f-4)\n",
    "@show r0_homoAll_f3 = rossby_radius_of_deformation(N_homoAll_f3,tropo_homoRad_homoSfc_f3,3f-4)"
   ]
  },
  {
   "cell_type": "code",
   "execution_count": null,
   "metadata": {},
   "outputs": [],
   "source": []
  }
 ],
 "metadata": {
  "kernelspec": {
   "display_name": "Julia 1.5.1",
   "language": "julia",
   "name": "julia-1.5"
  },
  "language_info": {
   "file_extension": ".jl",
   "mimetype": "application/julia",
   "name": "julia",
   "version": "1.5.1"
  }
 },
 "nbformat": 4,
 "nbformat_minor": 4
}
