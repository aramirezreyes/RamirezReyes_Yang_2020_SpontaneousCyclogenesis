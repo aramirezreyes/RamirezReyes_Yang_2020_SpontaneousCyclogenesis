{
 "cells": [
  {
   "cell_type": "code",
   "execution_count": 31,
   "id": "60a759cf-bd82-48d5-856f-b965e2962726",
   "metadata": {},
   "outputs": [],
   "source": [
    "using Revise\n",
    "using AvailablePotentialEnergyFramework, NCDatasets, Statistics, AbstractPlotting, CairoMakie"
   ]
  },
  {
   "cell_type": "code",
   "execution_count": 36,
   "id": "d81132a4-1b9b-4dfb-b115-0591d80275a5",
   "metadata": {},
   "outputs": [
    {
     "name": "stderr",
     "output_type": "stream",
     "text": [
      "┌ Info: Starting part 1 with indices from\n",
      "│   initial_timestep = 241\n",
      "│   final_timestep = 300\n",
      "└ @ Main In[36]:16\n"
     ]
    }
   ],
   "source": [
    "exp_name = \"f5e-4_2km_1000km_homoRad_nonudge\"\n",
    "outputfile = string(\"/global/cscratch1/sd/aramreye/for_postprocessing/ApeBudgetOutputs_50days/\",exp_name)\n",
    "input_folder = \"/global/cscratch1/sd/aramreye/for_postprocessing/largencfiles/\"\n",
    "file2d = string(input_folder,exp_name,\"_2d.nc\")\n",
    "file3d = string(input_folder,exp_name,\"_3d.nc\")\n",
    "total_days = 5\n",
    "offset_in_days = 20\n",
    "output_timestep = 7200 #seconds\n",
    "indices_in_part = 60\n",
    "indices_in_day = 86400 ÷ output_timestep\n",
    "number_of_parts = total_days*indices_in_day÷indices_in_part\n",
    "positionn = 1\n",
    "part_number = 1\n",
    "initial_timestep = offset_in_days*indices_in_day + indices_in_part*(part_number-1) + 1\n",
    "final_timestep = offset_in_days*indices_in_day + indices_in_part*(part_number)\n",
    "@info \"Starting part $part_number with indices from\" initial_timestep final_timestep\n",
    "#getapeanalysis(file2d,file3d,outputfile,initial_timestep,final_timestep,part_number,output_timestep,position,Float32)"
   ]
  },
  {
   "cell_type": "code",
   "execution_count": 37,
   "id": "8c4f63d2-951e-4d1e-8ba0-1fd3c7e9098f",
   "metadata": {},
   "outputs": [
    {
     "name": "stderr",
     "output_type": "stream",
     "text": [
      "┌ Info: Starting APE analysis routine\n",
      "└ @ Main In[37]:1\n"
     ]
    },
    {
     "data": {
      "text/plain": [
       "241:1:300"
      ]
     },
     "execution_count": 37,
     "metadata": {},
     "output_type": "execute_result"
    }
   ],
   "source": [
    "@info \"Starting APE analysis routine\"\n",
    "    const day           = 86400\n",
    "    const sst           = 300\n",
    "    const dt            = output_timestep    \n",
    "    const dayLength     = 60*60*24÷output_timestep; #How many data points make one day\n",
    "\n",
    "    const Pref          = 1000*1e2                 #Pa\n",
    "    const Ts            = sst                      #Sea surface temperature\n",
    "    const qs            = 25.7*1e-3 \n",
    "    const Tvs           = Ts*(1+epsilon*qs)\n",
    "    const c1            = (Dryair.R/Dryair.cp)\n",
    "    const smooth_x      = smooth_y = 15 #it was 11\n",
    "    const smooth_time   = floor(Int,dayLength*5)+1 \n",
    "\n",
    "    iterator_time_2d    = initial_timestep*2-1:2:(final_timestep)*2  \n",
    "    iterator_time_3d    = initial_timestep:1:final_timestep\n"
   ]
  },
  {
   "cell_type": "code",
   "execution_count": 84,
   "id": "ab9e7d0e-6050-4043-86f1-b14afbd950b9",
   "metadata": {},
   "outputs": [
    {
     "name": "stderr",
     "output_type": "stream",
     "text": [
      "┌ Info: Read 10%\n",
      "└ @ Main In[84]:9\n",
      "┌ Info: Read 20%\n",
      "└ @ Main In[84]:11\n",
      "┌ Info: Read 30%\n",
      "└ @ Main In[84]:13\n",
      "┌ Info: Read 40%\n",
      "└ @ Main In[84]:15\n",
      "┌ Info: Read 50%\n",
      "└ @ Main In[84]:17\n",
      "┌ Info: Read 60%\n",
      "└ @ Main In[84]:19\n",
      "┌ Info: Read 70%\n",
      "└ @ Main In[84]:21\n",
      "┌ Info: Read 80%\n",
      "└ @ Main In[84]:23\n",
      "┌ Info: Read 90%\n",
      "└ @ Main In[84]:25\n"
     ]
    },
    {
     "data": {
      "text/plain": [
       "closed NetCDF NCDataset"
      ]
     },
     "execution_count": 84,
     "metadata": {},
     "output_type": "execute_result"
    }
   ],
   "source": [
    "ds3d                = Dataset(file3d)\n",
    "    ds2d                = Dataset(file2d)\n",
    "    x                   = variable(ds3d,\"x\")[:]    :: Array{Float32,1}\n",
    "    y                   = variable(ds3d,\"y\")[:]    :: Array{Float32,1}\n",
    "    z                   = variable(ds3d,\"z\")[:]    :: Array{Float32,1}\n",
    "    t                   = variable(ds3d,\"time\")[iterator_time_3d] :: Array{Float32,1}\n",
    "    P0                  = variable(ds3d,\"p\")[:]    :: Array{Float32,1}\n",
    "    U                   = variable(ds3d,\"U\")[:,:,:,iterator_time_3d] :: Array{Float32,4}\n",
    "    @info \"Read 10%\"    \n",
    "    V                   = variable(ds3d,\"V\")[:,:,:,iterator_time_3d] :: Array{Float32,4}\n",
    "    @info \"Read 20%\"    \n",
    "    W                   = variable(ds3d,\"W\")[:,:,:,iterator_time_3d] :: Array{Float32,4}\n",
    "    @info \"Read 30%\"    \n",
    "    RAD                 = variable(ds3d,\"QRAD\")[:,:,:,iterator_time_3d] :: Array{Float32,4}\n",
    "    @info \"Read 40%\"    \n",
    "    T                   = variable(ds3d,\"TABS\")[:,:,:,iterator_time_3d] :: Array{Float32,4}\n",
    "    @info \"Read 50%\"    \n",
    "    Tv                  = variable(ds3d,\"QV\")[:,:,:,iterator_time_3d] :: Array{Float32,4}\n",
    "    @info \"Read 60%\"    \n",
    "    PP                  = variable(ds3d,\"PP\")[:,:,:,iterator_time_3d] :: Array{Float32,4}\n",
    "    @info \"Read 70%\"                  \n",
    "    SHF                 = variable(ds2d,\"SHF\")[:,:,iterator_time_2d] :: Array{Float32,3}\n",
    "    @info \"Read 80%\"                 \n",
    "    LHF                 = variable(ds2d,\"LHF\")[:,:,iterator_time_2d] :: Array{Float32,3}\n",
    "    @info \"Read 90%\"\n",
    "\n",
    "    close(ds3d)   \n",
    "    close(ds2d)   "
   ]
  },
  {
   "cell_type": "code",
   "execution_count": 85,
   "id": "676cbeeb-bdb7-4752-9f8a-13434c74435e",
   "metadata": {},
   "outputs": [],
   "source": [
    "@. SHF    = g/(1*Dryair.cp*Ts)*(SHF)                            \n",
    "@. LHF    = g/(1*Dryair.cp*Ts)*(epsilon*Dryair.cp*Ts/Liquidwater.Lv*LHF) \n",
    "@. SHF    +=  LHF     # Now it is transformed\n",
    "    \n",
    "ThetaV       = similar(T)\n",
    "xBar_Pt      = Array{eltype(ThetaV),4}(undef,1,1,size(PP,3),size(PP,4))\n",
    "xBar_Tv      = Array{eltype(ThetaV),4}(undef,1,1,size(Tv,3),size(Tv,4))\n",
    "xBar_ThetaV  = Array{eltype(ThetaV),4}(undef,1,1,size(ThetaV,3),size(ThetaV,4));"
   ]
  },
  {
   "cell_type": "code",
   "execution_count": 86,
   "id": "2581ed2b-1967-42dc-82f8-c77c585d46b7",
   "metadata": {},
   "outputs": [
    {
     "data": {
      "text/plain": [
       "Any[]"
      ]
     },
     "execution_count": 86,
     "metadata": {},
     "output_type": "execute_result"
    }
   ],
   "source": [
    " dx           = x[2]-x[1]\n",
    "    dy           = y[2]-y[1]                            # Grid size\n",
    "    kz           = length(z)                            # vertical levels\n",
    "    kx           = length(x)                            # # of horizonal grid points\n",
    "    ky           = length(y)                            # # of horizonal grid points\n",
    "    @.  RAD      = RAD/day                              # K/s #Heating rate per second\n",
    "    @.  Tv       = (1f0 + 1f-3*epsilon*Tv)*T              # Virtual temperature\n",
    "    @.  P0       = P0*1f2\n",
    "    PP          .= PP .+ reshape(P0,(1,1,kz,1))\n",
    "    ThetaV      .= Tv.*(P0[1]./PP).^c1 # Virtual potential temp\n",
    "    mean!(xBar_Pt,PP)                                     \n",
    "    mean!(xBar_Tv,Tv)              \n",
    "    mean!(xBar_ThetaV,ThetaV)   \n",
    "    var_Tv       =  Tv     .- xBar_Tv\n",
    "    var_ThetaV   =  ThetaV .- xBar_ThetaV\n",
    "    rho0         = dropdims(xBar_Pt./R./xBar_Tv,dims=(1,2))\n",
    "    B            = g .* var_ThetaV./xBar_ThetaV\n",
    "    @. RAD       = RAD*(g/xBar_Tv)                    # convert unit to buoyancy\n",
    "    PP           = []"
   ]
  },
  {
   "cell_type": "code",
   "execution_count": 153,
   "id": "23ae67c6-fb6c-4693-910e-1cf3435e7117",
   "metadata": {},
   "outputs": [
    {
     "data": {
      "text/plain": [
       "compute_N2_new (generic function with 1 method)"
      ]
     },
     "execution_count": 153,
     "metadata": {},
     "output_type": "execute_result"
    }
   ],
   "source": [
    "function compute_N2_new(xBar_Tv,z)\n",
    "    T = typeof(g/z[1])\n",
    "    N2 = zeros(T,length(z),size(xBar_Tv,4))\n",
    "    factor = (g/Dryair.cp)\n",
    "    @views N2[1:end-1,:]  .= g .* ( (xBar_Tv[1,1,2:end,:] .- xBar_Tv[1,1,1:end-1,:]) ./(z[2:end] .- z[1:end-1]) .+ factor) ./ xBar_Tv[1,1,1:end-1,:]\n",
    "    @views N2[end,:]      .= N2[end-1,:]\n",
    "    for _ in 1:10\n",
    "    ind_smallN2 = sort!(findall(abs.(N2) .< 1e-4), by = x -> x[1], rev = true)\n",
    "        @show length(ind_smallN2)\n",
    "    one_z = CartesianIndex(1,0)\n",
    "    @inbounds for ind in ind_smallN2\n",
    "        if 1 < ind[1] < length(z)\n",
    "           N2[ind] =  (N2[ind + one_z] + N2[ind])/2 # If N2 is small, substite by mean of neighbours\n",
    "        elseif ind[1] == 1\n",
    "           N2[ind] = (N2[ind + one_z] + N2[ind])/2\n",
    "        elseif ind[1] == length(z)\n",
    "            N2[ind] = N2[ind - one_z]\n",
    "        end\n",
    "    end\n",
    "    end\n",
    "    return N2\n",
    "end"
   ]
  },
  {
   "cell_type": "code",
   "execution_count": 154,
   "id": "b2eb2b90-bffc-4f64-aecf-9fb02709eea2",
   "metadata": {},
   "outputs": [
    {
     "name": "stdout",
     "output_type": "stream",
     "text": [
      "length(ind_smallN2) = 1355\n",
      "length(ind_smallN2) = 1226\n",
      "length(ind_smallN2) = 1192\n",
      "length(ind_smallN2) = 1165\n",
      "length(ind_smallN2) = 1130\n",
      "length(ind_smallN2) = 1097\n",
      "length(ind_smallN2) = 1072\n",
      "length(ind_smallN2) = 1040\n",
      "length(ind_smallN2) = 1015\n",
      "length(ind_smallN2) = 989\n"
     ]
    },
    {
     "data": {
      "text/plain": [
       "Any[]"
      ]
     },
     "execution_count": 154,
     "metadata": {},
     "output_type": "execute_result"
    }
   ],
   "source": [
    "    N2           = compute_N2_new(xBar_Tv,z)\n",
    "    LHF        = []\n",
    "    T          = []\n",
    "    ThetaV     = []\n",
    "    Tv         = []\n",
    "    var_ThetaV = []\n",
    "    var_Tv     = []"
   ]
  },
  {
   "cell_type": "code",
   "execution_count": 125,
   "id": "be5c2847-9ece-443c-a74f-32c308df2ddb",
   "metadata": {},
   "outputs": [
    {
     "name": "stderr",
     "output_type": "stream",
     "text": [
      "┌ Info: ((512, 512, 80, 60), (512, 512, 80, 60), (512, 512, 60), (512, 512, 80, 60), (512, 512, 80, 60), (512, 512, 80, 60), (80, 60), (), (), (), (), (512,), (512,), (80,), (60,))\n",
      "└ @ Main In[125]:2\n"
     ]
    }
   ],
   "source": [
    "dz          = 50\n",
    "@info size(B), size(RAD), size(SHF), size(U),size(V) ,size(W), size(N2), size(dx),size(dy), size(dz), size(dt), size(x),size(y), size(z), size(t)\n",
    "Diabatic_other = get_diabatic_as_residual_buoyancy(B, RAD, SHF, U,V ,W, N2, dx,dy, dz, dt);"
   ]
  },
  {
   "cell_type": "code",
   "execution_count": 126,
   "id": "bf2ce9ab-5566-4622-a34a-479a452ca2b4",
   "metadata": {},
   "outputs": [],
   "source": [
    "GC.gc()"
   ]
  },
  {
   "cell_type": "code",
   "execution_count": 127,
   "id": "c94150f2-97ce-46ce-8df9-cf23755b7d00",
   "metadata": {},
   "outputs": [
    {
     "data": {
      "text/plain": [
       "2000"
      ]
     },
     "execution_count": 127,
     "metadata": {},
     "output_type": "execute_result"
    }
   ],
   "source": [
    "z_up        = tropopause_height = 15000\n",
    "z_BL        = 2000"
   ]
  },
  {
   "cell_type": "code",
   "execution_count": 155,
   "id": "c9a6d09c-6755-4646-8f43-1c0e0d499368",
   "metadata": {},
   "outputs": [
    {
     "data": {
      "text/plain": [
       "false"
      ]
     },
     "execution_count": 155,
     "metadata": {},
     "output_type": "execute_result"
    }
   ],
   "source": [
    "N2_positive = abs.(N2)\n",
    "N2_positive == (N2)"
   ]
  },
  {
   "cell_type": "code",
   "execution_count": 129,
   "id": "44cb2183-0dd9-429e-9ad2-5598e67fb75d",
   "metadata": {},
   "outputs": [
    {
     "name": "stderr",
     "output_type": "stream",
     "text": [
      "┌ Info: Sizes: \n",
      "│   size(B) = (512, 512, 80, 60)\n",
      "│   size(N2) = (1, 1, 80, 60)\n",
      "│   size(Fs) = (512, 512, 60)\n",
      "└ @ AvailablePotentialEnergyFramework /global/homes/a/aramreye/.julia/packages/AvailablePotentialEnergyFramework/GbGz5/src/apebudgets.jl:305\n",
      "┌ Info: (1, 1, 60)\n",
      "└ @ AvailablePotentialEnergyFramework /global/homes/a/aramreye/.julia/packages/AvailablePotentialEnergyFramework/GbGz5/src/apebudgets.jl:306\n"
     ]
    },
    {
     "data": {
      "text/plain": [
       "(Float32[8791.913, 8790.763, 8789.607, 8788.125, 8787.244, 8785.883, 8785.038, 8783.821, 8782.933, 8782.056  …  8766.106, 8766.202, 8766.418, 8766.535, 8766.282, 8766.675, 8766.772, 8767.185, 8767.713, 8768.307], Float32[609465.06, 597566.8, 590092.2, 592363.8, 580794.25, 579256.0, 568080.25, 570162.75, 562127.2, 554020.75  …  388427.72, 386649.3, 386957.12, 382567.03, 381952.97, 371772.78, 367519.75, 361768.34, 353241.06, 349467.78], Float32[209155.33, 208844.8, 176161.7, 182861.97, 211953.28, 180605.42, 189158.08, 194432.39, 176225.86, 175048.06  …  173092.47, 169125.75, 161588.28, 135511.23, 156555.0, 185461.34, 138559.31, 141151.73, 143495.88, 149154.81], Float32[-0.03930478, -4.535388, 0.9354081, 4.04354, -4.3495626, 1.1905653, 0.7362116, -2.5258455, -0.16090424, -2.6029682  …  -0.5512081, -1.0472896, -3.6219425, 2.9233856, 4.0142093, -6.5143304, 0.35911548, 0.32434767, 0.78469527, 0.7846155], Float32[-5.4419417, -2.827234, -3.0597422, -2.8384044, -2.7309332, -2.232572, -0.09833381, 0.48112196, 1.1446623, 0.24868162  …  1.1297444, -1.0680927, -0.33051735, -0.46171376, 0.23921603, 0.43794984, -1.9195443, -1.3853688, -1.8080201, -0.28172207], Float32[3.084756, 0.09598923, 0.70691687, 0.33508337, -0.011425527, 0.2834983, -1.7767407, -2.6212869, -2.6934423, -2.365188  …  -1.3488708, 0.8974689, 0.4695897, 0.08962787, -0.48973948, -0.69517803, 1.1229644, 0.7659126, 1.1683512, -0.039278086], Float32[9.968537, 10.578402, 6.748208, 5.009613, 10.162756, 4.412964, 6.8606625, 7.2052393, 7.0752535, 6.5574393  …  2.6531022, 1.5587033, 0.31376395, 2.7923238, 4.217266, 1.4224654, 0.8530053, 4.337215, 2.25653, 1.8885261], Float32[-1.3537862f-5, -1.2439599f-5, 1.5056471f-5, 7.806144f-6, -2.235776f-6, -5.9562017f-6, -4.5537436f-6, 2.0684016f-5, 2.5292454f-6, -1.4156361f-5  …  1.763465f-5, 1.2017561f-5, 1.83286f-5, -1.1903703f-6, -1.607261f-5, 7.577528f-6, -1.2349559f-5, -3.17627f-6, 7.212865f-7, -2.1806352f-6], Float32[4.0973864, 2.4338574, 0.7980463, -0.1692113, 2.7085702, -2.6571188, -0.63168526, -0.14751224, 0.88120323, 0.7058704  …  -0.8167348, -2.538224, -2.51705, 0.57971054, 2.0975642, -1.7523531, -1.6167759, 1.1164343, -1.1266385, 6.4627333], Float32[-0.12757754, -0.11846368, -0.11578119, -0.11584694, -0.10776299, -0.123775385, -0.110496715, -0.11322939, -0.10485136, -0.10294293  …  -0.0667078, -0.064972185, -0.06787166, -0.06247472, -0.064996846, -0.06298789, -0.057493538, -0.05700441, -0.051816996, -0.058053523], Float32[3.6022513, 0.99638724, 4.6485105, 6.8348823, 0.4700296, 6.4353557, 6.4639864, 2.79995, 4.589215, 1.2350513  …  2.7661927, 2.9439743, -0.584203, 4.826389, 5.9484005, -3.53376, 2.0898228, 2.9826798, 3.5800114, -4.052536])"
      ]
     },
     "execution_count": 129,
     "metadata": {},
     "output_type": "execute_result"
    }
   ],
   "source": [
    "(int_mass,\n",
    "     int_KE,\n",
    "     int_APE,\n",
    "     int_APE_rate,\n",
    "     int_APE_Ub2,\n",
    "     int_APE_Vb2,\n",
    "     int_APE_WN2,\n",
    "     int_APE_RAD,\n",
    "     int_APE_DIA,\n",
    "     xBar_APE_Fs,\n",
    "     residual) =  getapebudget(B, U,V, W, N2, RAD, SHF, Diabatic_other, rho0, x,y, z, t, dx,dy, dz, dt, z_up)"
   ]
  },
  {
   "cell_type": "code",
   "execution_count": 156,
   "id": "f108651b-4bd2-4169-acd5-0fdea70d4758",
   "metadata": {},
   "outputs": [
    {
     "data": {
      "image/svg+xml": [
       "<?xml version=\"1.0\" encoding=\"UTF-8\"?>\n",
       "<svg xmlns=\"http://www.w3.org/2000/svg\" xmlns:xlink=\"http://www.w3.org/1999/xlink\" width=\"960pt\" height=\"540pt\" viewBox=\"0 0 960 540\" version=\"1.1\">\n",
       "<defs>\n",
       "<g>\n",
       "<symbol overflow=\"visible\" id=\"glyph0-0\">\n",
       "<path style=\"stroke:none;\" d=\"M 0.59375 2.125 L 0.59375 -8.484375 L 6.609375 -8.484375 L 6.609375 2.125 Z M 1.28125 1.453125 L 5.9375 1.453125 L 5.9375 -7.8125 L 1.28125 -7.8125 Z M 1.28125 1.453125 \"/>\n",
       "</symbol>\n",
       "<symbol overflow=\"visible\" id=\"glyph0-1\">\n",
       "<path style=\"stroke:none;\" d=\"M 3.828125 -7.984375 C 3.210938 -7.984375 2.75 -7.679688 2.4375 -7.078125 C 2.132812 -6.484375 1.984375 -5.582031 1.984375 -4.375 C 1.984375 -3.175781 2.132812 -2.273438 2.4375 -1.671875 C 2.75 -1.066406 3.210938 -0.765625 3.828125 -0.765625 C 4.441406 -0.765625 4.898438 -1.066406 5.203125 -1.671875 C 5.515625 -2.273438 5.671875 -3.175781 5.671875 -4.375 C 5.671875 -5.582031 5.515625 -6.484375 5.203125 -7.078125 C 4.898438 -7.679688 4.441406 -7.984375 3.828125 -7.984375 Z M 3.828125 -8.921875 C 4.804688 -8.921875 5.554688 -8.53125 6.078125 -7.75 C 6.597656 -6.976562 6.859375 -5.851562 6.859375 -4.375 C 6.859375 -2.894531 6.597656 -1.765625 6.078125 -0.984375 C 5.554688 -0.210938 4.804688 0.171875 3.828125 0.171875 C 2.835938 0.171875 2.082031 -0.210938 1.5625 -0.984375 C 1.050781 -1.765625 0.796875 -2.894531 0.796875 -4.375 C 0.796875 -5.851562 1.050781 -6.976562 1.5625 -7.75 C 2.082031 -8.53125 2.835938 -8.921875 3.828125 -8.921875 Z M 3.828125 -8.921875 \"/>\n",
       "</symbol>\n",
       "<symbol overflow=\"visible\" id=\"glyph0-2\">\n",
       "<path style=\"stroke:none;\" d=\"M 1.484375 -1 L 3.4375 -1 L 3.4375 -7.6875 L 1.328125 -7.265625 L 1.328125 -8.34375 L 3.421875 -8.765625 L 4.609375 -8.765625 L 4.609375 -1 L 6.546875 -1 L 6.546875 0 L 1.484375 0 Z M 1.484375 -1 \"/>\n",
       "</symbol>\n",
       "<symbol overflow=\"visible\" id=\"glyph0-3\">\n",
       "<path style=\"stroke:none;\" d=\"M 2.3125 -1 L 6.453125 -1 L 6.453125 0 L 0.875 0 L 0.875 -1 C 1.332031 -1.46875 1.945312 -2.09375 2.71875 -2.875 C 3.5 -3.65625 3.988281 -4.160156 4.1875 -4.390625 C 4.570312 -4.816406 4.835938 -5.175781 4.984375 -5.46875 C 5.128906 -5.769531 5.203125 -6.0625 5.203125 -6.34375 C 5.203125 -6.8125 5.039062 -7.191406 4.71875 -7.484375 C 4.394531 -7.785156 3.96875 -7.9375 3.4375 -7.9375 C 3.070312 -7.9375 2.679688 -7.867188 2.265625 -7.734375 C 1.847656 -7.609375 1.40625 -7.414062 0.9375 -7.15625 L 0.9375 -8.34375 C 1.414062 -8.539062 1.863281 -8.6875 2.28125 -8.78125 C 2.695312 -8.875 3.078125 -8.921875 3.421875 -8.921875 C 4.328125 -8.921875 5.050781 -8.691406 5.59375 -8.234375 C 6.132812 -7.785156 6.40625 -7.179688 6.40625 -6.421875 C 6.40625 -6.066406 6.335938 -5.726562 6.203125 -5.40625 C 6.066406 -5.082031 5.820312 -4.703125 5.46875 -4.265625 C 5.363281 -4.148438 5.046875 -3.820312 4.515625 -3.28125 C 3.992188 -2.738281 3.257812 -1.976562 2.3125 -1 Z M 2.3125 -1 \"/>\n",
       "</symbol>\n",
       "<symbol overflow=\"visible\" id=\"glyph0-4\">\n",
       "<path style=\"stroke:none;\" d=\"M 4.875 -4.734375 C 5.445312 -4.609375 5.890625 -4.351562 6.203125 -3.96875 C 6.523438 -3.582031 6.6875 -3.109375 6.6875 -2.546875 C 6.6875 -1.679688 6.390625 -1.007812 5.796875 -0.53125 C 5.203125 -0.0625 4.359375 0.171875 3.265625 0.171875 C 2.890625 0.171875 2.507812 0.132812 2.125 0.0625 C 1.738281 -0.0078125 1.335938 -0.117188 0.921875 -0.265625 L 0.921875 -1.40625 C 1.242188 -1.21875 1.597656 -1.070312 1.984375 -0.96875 C 2.378906 -0.875 2.789062 -0.828125 3.21875 -0.828125 C 3.96875 -0.828125 4.535156 -0.972656 4.921875 -1.265625 C 5.316406 -1.554688 5.515625 -1.984375 5.515625 -2.546875 C 5.515625 -3.066406 5.332031 -3.472656 4.96875 -3.765625 C 4.601562 -4.054688 4.097656 -4.203125 3.453125 -4.203125 L 2.4375 -4.203125 L 2.4375 -5.171875 L 3.5 -5.171875 C 4.082031 -5.171875 4.53125 -5.285156 4.84375 -5.515625 C 5.15625 -5.753906 5.3125 -6.09375 5.3125 -6.53125 C 5.3125 -6.976562 5.148438 -7.320312 4.828125 -7.5625 C 4.503906 -7.8125 4.046875 -7.9375 3.453125 -7.9375 C 3.128906 -7.9375 2.78125 -7.898438 2.40625 -7.828125 C 2.03125 -7.753906 1.625 -7.644531 1.1875 -7.5 L 1.1875 -8.546875 C 1.632812 -8.671875 2.050781 -8.765625 2.4375 -8.828125 C 2.832031 -8.890625 3.207031 -8.921875 3.5625 -8.921875 C 4.457031 -8.921875 5.164062 -8.71875 5.6875 -8.3125 C 6.21875 -7.90625 6.484375 -7.351562 6.484375 -6.65625 C 6.484375 -6.164062 6.34375 -5.753906 6.0625 -5.421875 C 5.789062 -5.085938 5.394531 -4.859375 4.875 -4.734375 Z M 4.875 -4.734375 \"/>\n",
       "</symbol>\n",
       "<symbol overflow=\"visible\" id=\"glyph0-5\">\n",
       "<path style=\"stroke:none;\" d=\"M 4.546875 -7.734375 L 1.546875 -3.0625 L 4.546875 -3.0625 Z M 4.234375 -8.765625 L 5.734375 -8.765625 L 5.734375 -3.0625 L 6.984375 -3.0625 L 6.984375 -2.0625 L 5.734375 -2.0625 L 5.734375 0 L 4.546875 0 L 4.546875 -2.0625 L 0.59375 -2.0625 L 0.59375 -3.21875 Z M 4.234375 -8.765625 \"/>\n",
       "</symbol>\n",
       "<symbol overflow=\"visible\" id=\"glyph0-6\">\n",
       "<path style=\"stroke:none;\" d=\"M 1.296875 -8.765625 L 5.953125 -8.765625 L 5.953125 -7.765625 L 2.390625 -7.765625 L 2.390625 -5.625 C 2.554688 -5.675781 2.722656 -5.71875 2.890625 -5.75 C 3.066406 -5.78125 3.242188 -5.796875 3.421875 -5.796875 C 4.398438 -5.796875 5.175781 -5.523438 5.75 -4.984375 C 6.320312 -4.453125 6.609375 -3.726562 6.609375 -2.8125 C 6.609375 -1.863281 6.3125 -1.128906 5.71875 -0.609375 C 5.132812 -0.0859375 4.304688 0.171875 3.234375 0.171875 C 2.867188 0.171875 2.492188 0.140625 2.109375 0.078125 C 1.734375 0.015625 1.335938 -0.078125 0.921875 -0.203125 L 0.921875 -1.390625 C 1.273438 -1.203125 1.640625 -1.0625 2.015625 -0.96875 C 2.390625 -0.875 2.789062 -0.828125 3.21875 -0.828125 C 3.894531 -0.828125 4.429688 -1.003906 4.828125 -1.359375 C 5.222656 -1.710938 5.421875 -2.195312 5.421875 -2.8125 C 5.421875 -3.425781 5.222656 -3.910156 4.828125 -4.265625 C 4.429688 -4.617188 3.894531 -4.796875 3.21875 -4.796875 C 2.894531 -4.796875 2.578125 -4.757812 2.265625 -4.6875 C 1.953125 -4.625 1.628906 -4.515625 1.296875 -4.359375 Z M 1.296875 -8.765625 \"/>\n",
       "</symbol>\n",
       "<symbol overflow=\"visible\" id=\"glyph0-7\">\n",
       "<path style=\"stroke:none;\" d=\"M 3.96875 -4.859375 C 3.4375 -4.859375 3.015625 -4.675781 2.703125 -4.3125 C 2.390625 -3.945312 2.234375 -3.445312 2.234375 -2.8125 C 2.234375 -2.1875 2.390625 -1.6875 2.703125 -1.3125 C 3.015625 -0.945312 3.4375 -0.765625 3.96875 -0.765625 C 4.5 -0.765625 4.921875 -0.945312 5.234375 -1.3125 C 5.546875 -1.6875 5.703125 -2.1875 5.703125 -2.8125 C 5.703125 -3.445312 5.546875 -3.945312 5.234375 -4.3125 C 4.921875 -4.675781 4.5 -4.859375 3.96875 -4.859375 Z M 6.328125 -8.578125 L 6.328125 -7.5 C 6.023438 -7.632812 5.722656 -7.738281 5.421875 -7.8125 C 5.117188 -7.894531 4.820312 -7.9375 4.53125 -7.9375 C 3.738281 -7.9375 3.132812 -7.671875 2.71875 -7.140625 C 2.3125 -6.609375 2.078125 -5.804688 2.015625 -4.734375 C 2.253906 -5.078125 2.546875 -5.335938 2.890625 -5.515625 C 3.234375 -5.703125 3.617188 -5.796875 4.046875 -5.796875 C 4.921875 -5.796875 5.613281 -5.523438 6.125 -4.984375 C 6.632812 -4.453125 6.890625 -3.726562 6.890625 -2.8125 C 6.890625 -1.914062 6.625 -1.191406 6.09375 -0.640625 C 5.5625 -0.0976562 4.851562 0.171875 3.96875 0.171875 C 2.957031 0.171875 2.179688 -0.210938 1.640625 -0.984375 C 1.109375 -1.765625 0.84375 -2.894531 0.84375 -4.375 C 0.84375 -5.757812 1.171875 -6.863281 1.828125 -7.6875 C 2.484375 -8.507812 3.363281 -8.921875 4.46875 -8.921875 C 4.769531 -8.921875 5.070312 -8.890625 5.375 -8.828125 C 5.675781 -8.773438 5.992188 -8.691406 6.328125 -8.578125 Z M 6.328125 -8.578125 \"/>\n",
       "</symbol>\n",
       "<symbol overflow=\"visible\" id=\"glyph0-8\">\n",
       "<path style=\"stroke:none;\" d=\"M 3.828125 -4.171875 C 3.265625 -4.171875 2.820312 -4.019531 2.5 -3.71875 C 2.175781 -3.414062 2.015625 -3 2.015625 -2.46875 C 2.015625 -1.9375 2.175781 -1.519531 2.5 -1.21875 C 2.820312 -0.914062 3.265625 -0.765625 3.828125 -0.765625 C 4.390625 -0.765625 4.832031 -0.914062 5.15625 -1.21875 C 5.476562 -1.53125 5.640625 -1.945312 5.640625 -2.46875 C 5.640625 -3 5.476562 -3.414062 5.15625 -3.71875 C 4.832031 -4.019531 4.390625 -4.171875 3.828125 -4.171875 Z M 2.640625 -4.671875 C 2.128906 -4.796875 1.726562 -5.03125 1.4375 -5.375 C 1.15625 -5.726562 1.015625 -6.15625 1.015625 -6.65625 C 1.015625 -7.351562 1.265625 -7.90625 1.765625 -8.3125 C 2.265625 -8.71875 2.953125 -8.921875 3.828125 -8.921875 C 4.703125 -8.921875 5.382812 -8.71875 5.875 -8.3125 C 6.375 -7.90625 6.625 -7.351562 6.625 -6.65625 C 6.625 -6.15625 6.484375 -5.726562 6.203125 -5.375 C 5.921875 -5.03125 5.523438 -4.796875 5.015625 -4.671875 C 5.585938 -4.535156 6.03125 -4.273438 6.34375 -3.890625 C 6.664062 -3.503906 6.828125 -3.03125 6.828125 -2.46875 C 6.828125 -1.613281 6.566406 -0.957031 6.046875 -0.5 C 5.535156 -0.0507812 4.796875 0.171875 3.828125 0.171875 C 2.859375 0.171875 2.113281 -0.0507812 1.59375 -0.5 C 1.070312 -0.957031 0.8125 -1.613281 0.8125 -2.46875 C 0.8125 -3.03125 0.972656 -3.503906 1.296875 -3.890625 C 1.617188 -4.273438 2.066406 -4.535156 2.640625 -4.671875 Z M 2.203125 -6.546875 C 2.203125 -6.085938 2.34375 -5.726562 2.625 -5.46875 C 2.914062 -5.21875 3.316406 -5.09375 3.828125 -5.09375 C 4.335938 -5.09375 4.734375 -5.21875 5.015625 -5.46875 C 5.304688 -5.726562 5.453125 -6.085938 5.453125 -6.546875 C 5.453125 -6.992188 5.304688 -7.34375 5.015625 -7.59375 C 4.734375 -7.851562 4.335938 -7.984375 3.828125 -7.984375 C 3.316406 -7.984375 2.914062 -7.851562 2.625 -7.59375 C 2.34375 -7.34375 2.203125 -6.992188 2.203125 -6.546875 Z M 2.203125 -6.546875 \"/>\n",
       "</symbol>\n",
       "<symbol overflow=\"visible\" id=\"glyph1-0\">\n",
       "<path style=\"stroke:none;\" d=\"M 0.71875 2.546875 L 0.71875 -10.171875 L 7.9375 -10.171875 L 7.9375 2.546875 Z M 1.53125 1.75 L 7.140625 1.75 L 7.140625 -9.375 L 1.53125 -9.375 Z M 1.53125 1.75 \"/>\n",
       "</symbol>\n",
       "<symbol overflow=\"visible\" id=\"glyph1-1\">\n",
       "<path style=\"stroke:none;\" d=\"M 7.921875 -7.890625 L 5.0625 -4.046875 L 8.078125 0 L 6.546875 0 L 4.25 -3.109375 L 1.953125 0 L 0.421875 0 L 3.484375 -4.125 L 0.671875 -7.890625 L 2.203125 -7.890625 L 4.296875 -5.078125 L 6.390625 -7.890625 Z M 7.921875 -7.890625 \"/>\n",
       "</symbol>\n",
       "<symbol overflow=\"visible\" id=\"glyph2-0\">\n",
       "<path style=\"stroke:none;\" d=\"M 2.546875 -0.71875 L -10.171875 -0.71875 L -10.171875 -7.9375 L 2.546875 -7.9375 Z M 1.75 -1.53125 L 1.75 -7.140625 L -9.375 -7.140625 L -9.375 -1.53125 Z M 1.75 -1.53125 \"/>\n",
       "</symbol>\n",
       "<symbol overflow=\"visible\" id=\"glyph2-1\">\n",
       "<path style=\"stroke:none;\" d=\"M 0.734375 -4.640625 C 1.671875 -4.273438 2.28125 -3.914062 2.5625 -3.5625 C 2.851562 -3.21875 3 -2.753906 3 -2.171875 L 3 -1.140625 L 1.921875 -1.140625 L 1.921875 -1.90625 C 1.921875 -2.257812 1.832031 -2.535156 1.65625 -2.734375 C 1.488281 -2.929688 1.09375 -3.148438 0.46875 -3.390625 L -0.125 -3.625 L -7.890625 -0.4375 L -7.890625 -1.8125 L -1.71875 -4.265625 L -7.890625 -6.734375 L -7.890625 -8.109375 Z M 0.734375 -4.640625 \"/>\n",
       "</symbol>\n",
       "</g>\n",
       "</defs>\n",
       "<g id=\"surface126\">\n",
       "<rect x=\"0\" y=\"0\" width=\"960\" height=\"540\" style=\"fill:rgb(100%,100%,100%);fill-opacity:1;stroke:none;\"/>\n",
       "<g style=\"fill:rgb(0%,0%,0%);fill-opacity:1;\">\n",
       "  <use xlink:href=\"#glyph0-1\" x=\"117.714844\" y=\"515.292969\"/>\n",
       "</g>\n",
       "<g style=\"fill:rgb(0%,0%,0%);fill-opacity:1;\">\n",
       "  <use xlink:href=\"#glyph0-2\" x=\"245.386719\" y=\"515.292969\"/>\n",
       "</g>\n",
       "<g style=\"fill:rgb(0%,0%,0%);fill-opacity:1;\">\n",
       "  <use xlink:href=\"#glyph0-1\" x=\"253.039062\" y=\"515.292969\"/>\n",
       "</g>\n",
       "<g style=\"fill:rgb(0%,0%,0%);fill-opacity:1;\">\n",
       "  <use xlink:href=\"#glyph0-3\" x=\"377.371094\" y=\"515.292969\"/>\n",
       "</g>\n",
       "<g style=\"fill:rgb(0%,0%,0%);fill-opacity:1;\">\n",
       "  <use xlink:href=\"#glyph0-1\" x=\"385.023438\" y=\"515.292969\"/>\n",
       "</g>\n",
       "<g style=\"fill:rgb(0%,0%,0%);fill-opacity:1;\">\n",
       "  <use xlink:href=\"#glyph0-4\" x=\"509.117188\" y=\"515.292969\"/>\n",
       "</g>\n",
       "<g style=\"fill:rgb(0%,0%,0%);fill-opacity:1;\">\n",
       "  <use xlink:href=\"#glyph0-1\" x=\"516.765625\" y=\"515.292969\"/>\n",
       "</g>\n",
       "<g style=\"fill:rgb(0%,0%,0%);fill-opacity:1;\">\n",
       "  <use xlink:href=\"#glyph0-5\" x=\"641.042969\" y=\"515.292969\"/>\n",
       "</g>\n",
       "<g style=\"fill:rgb(0%,0%,0%);fill-opacity:1;\">\n",
       "  <use xlink:href=\"#glyph0-1\" x=\"648.695312\" y=\"515.292969\"/>\n",
       "</g>\n",
       "<g style=\"fill:rgb(0%,0%,0%);fill-opacity:1;\">\n",
       "  <use xlink:href=\"#glyph0-6\" x=\"772.636719\" y=\"515.292969\"/>\n",
       "</g>\n",
       "<g style=\"fill:rgb(0%,0%,0%);fill-opacity:1;\">\n",
       "  <use xlink:href=\"#glyph0-1\" x=\"780.285156\" y=\"515.292969\"/>\n",
       "</g>\n",
       "<g style=\"fill:rgb(0%,0%,0%);fill-opacity:1;\">\n",
       "  <use xlink:href=\"#glyph0-7\" x=\"904.441406\" y=\"515.292969\"/>\n",
       "</g>\n",
       "<g style=\"fill:rgb(0%,0%,0%);fill-opacity:1;\">\n",
       "  <use xlink:href=\"#glyph0-1\" x=\"912.09375\" y=\"515.292969\"/>\n",
       "</g>\n",
       "<g style=\"fill:rgb(0%,0%,0%);fill-opacity:1;\">\n",
       "  <use xlink:href=\"#glyph0-1\" x=\"84.578125\" y=\"485.089844\"/>\n",
       "</g>\n",
       "<g style=\"fill:rgb(0%,0%,0%);fill-opacity:1;\">\n",
       "  <use xlink:href=\"#glyph0-3\" x=\"38.671875\" y=\"418.710938\"/>\n",
       "</g>\n",
       "<g style=\"fill:rgb(0%,0%,0%);fill-opacity:1;\">\n",
       "  <use xlink:href=\"#glyph0-1\" x=\"46.320312\" y=\"418.710938\"/>\n",
       "</g>\n",
       "<g style=\"fill:rgb(0%,0%,0%);fill-opacity:1;\">\n",
       "  <use xlink:href=\"#glyph0-1\" x=\"53.972656\" y=\"418.710938\"/>\n",
       "</g>\n",
       "<g style=\"fill:rgb(0%,0%,0%);fill-opacity:1;\">\n",
       "  <use xlink:href=\"#glyph0-1\" x=\"61.625\" y=\"418.710938\"/>\n",
       "</g>\n",
       "<g style=\"fill:rgb(0%,0%,0%);fill-opacity:1;\">\n",
       "  <use xlink:href=\"#glyph0-1\" x=\"69.273438\" y=\"418.710938\"/>\n",
       "</g>\n",
       "<g style=\"fill:rgb(0%,0%,0%);fill-opacity:1;\">\n",
       "  <use xlink:href=\"#glyph0-1\" x=\"76.925781\" y=\"418.710938\"/>\n",
       "</g>\n",
       "<g style=\"fill:rgb(0%,0%,0%);fill-opacity:1;\">\n",
       "  <use xlink:href=\"#glyph0-1\" x=\"84.578125\" y=\"418.710938\"/>\n",
       "</g>\n",
       "<g style=\"fill:rgb(0%,0%,0%);fill-opacity:1;\">\n",
       "  <use xlink:href=\"#glyph0-5\" x=\"38.671875\" y=\"352.332031\"/>\n",
       "</g>\n",
       "<g style=\"fill:rgb(0%,0%,0%);fill-opacity:1;\">\n",
       "  <use xlink:href=\"#glyph0-1\" x=\"46.320312\" y=\"352.332031\"/>\n",
       "</g>\n",
       "<g style=\"fill:rgb(0%,0%,0%);fill-opacity:1;\">\n",
       "  <use xlink:href=\"#glyph0-1\" x=\"53.972656\" y=\"352.332031\"/>\n",
       "</g>\n",
       "<g style=\"fill:rgb(0%,0%,0%);fill-opacity:1;\">\n",
       "  <use xlink:href=\"#glyph0-1\" x=\"61.625\" y=\"352.332031\"/>\n",
       "</g>\n",
       "<g style=\"fill:rgb(0%,0%,0%);fill-opacity:1;\">\n",
       "  <use xlink:href=\"#glyph0-1\" x=\"69.273438\" y=\"352.332031\"/>\n",
       "</g>\n",
       "<g style=\"fill:rgb(0%,0%,0%);fill-opacity:1;\">\n",
       "  <use xlink:href=\"#glyph0-1\" x=\"76.925781\" y=\"352.332031\"/>\n",
       "</g>\n",
       "<g style=\"fill:rgb(0%,0%,0%);fill-opacity:1;\">\n",
       "  <use xlink:href=\"#glyph0-1\" x=\"84.578125\" y=\"352.332031\"/>\n",
       "</g>\n",
       "<g style=\"fill:rgb(0%,0%,0%);fill-opacity:1;\">\n",
       "  <use xlink:href=\"#glyph0-7\" x=\"38.671875\" y=\"285.953125\"/>\n",
       "</g>\n",
       "<g style=\"fill:rgb(0%,0%,0%);fill-opacity:1;\">\n",
       "  <use xlink:href=\"#glyph0-1\" x=\"46.320312\" y=\"285.953125\"/>\n",
       "</g>\n",
       "<g style=\"fill:rgb(0%,0%,0%);fill-opacity:1;\">\n",
       "  <use xlink:href=\"#glyph0-1\" x=\"53.972656\" y=\"285.953125\"/>\n",
       "</g>\n",
       "<g style=\"fill:rgb(0%,0%,0%);fill-opacity:1;\">\n",
       "  <use xlink:href=\"#glyph0-1\" x=\"61.625\" y=\"285.953125\"/>\n",
       "</g>\n",
       "<g style=\"fill:rgb(0%,0%,0%);fill-opacity:1;\">\n",
       "  <use xlink:href=\"#glyph0-1\" x=\"69.273438\" y=\"285.953125\"/>\n",
       "</g>\n",
       "<g style=\"fill:rgb(0%,0%,0%);fill-opacity:1;\">\n",
       "  <use xlink:href=\"#glyph0-1\" x=\"76.925781\" y=\"285.953125\"/>\n",
       "</g>\n",
       "<g style=\"fill:rgb(0%,0%,0%);fill-opacity:1;\">\n",
       "  <use xlink:href=\"#glyph0-1\" x=\"84.578125\" y=\"285.953125\"/>\n",
       "</g>\n",
       "<g style=\"fill:rgb(0%,0%,0%);fill-opacity:1;\">\n",
       "  <use xlink:href=\"#glyph0-8\" x=\"38.671875\" y=\"219.570312\"/>\n",
       "</g>\n",
       "<g style=\"fill:rgb(0%,0%,0%);fill-opacity:1;\">\n",
       "  <use xlink:href=\"#glyph0-1\" x=\"46.320312\" y=\"219.570312\"/>\n",
       "</g>\n",
       "<g style=\"fill:rgb(0%,0%,0%);fill-opacity:1;\">\n",
       "  <use xlink:href=\"#glyph0-1\" x=\"53.972656\" y=\"219.570312\"/>\n",
       "</g>\n",
       "<g style=\"fill:rgb(0%,0%,0%);fill-opacity:1;\">\n",
       "  <use xlink:href=\"#glyph0-1\" x=\"61.625\" y=\"219.570312\"/>\n",
       "</g>\n",
       "<g style=\"fill:rgb(0%,0%,0%);fill-opacity:1;\">\n",
       "  <use xlink:href=\"#glyph0-1\" x=\"69.273438\" y=\"219.570312\"/>\n",
       "</g>\n",
       "<g style=\"fill:rgb(0%,0%,0%);fill-opacity:1;\">\n",
       "  <use xlink:href=\"#glyph0-1\" x=\"76.925781\" y=\"219.570312\"/>\n",
       "</g>\n",
       "<g style=\"fill:rgb(0%,0%,0%);fill-opacity:1;\">\n",
       "  <use xlink:href=\"#glyph0-1\" x=\"84.578125\" y=\"219.570312\"/>\n",
       "</g>\n",
       "<g style=\"fill:rgb(0%,0%,0%);fill-opacity:1;\">\n",
       "  <use xlink:href=\"#glyph0-2\" x=\"31.019531\" y=\"153.191406\"/>\n",
       "</g>\n",
       "<g style=\"fill:rgb(0%,0%,0%);fill-opacity:1;\">\n",
       "  <use xlink:href=\"#glyph0-1\" x=\"38.671875\" y=\"153.191406\"/>\n",
       "</g>\n",
       "<g style=\"fill:rgb(0%,0%,0%);fill-opacity:1;\">\n",
       "  <use xlink:href=\"#glyph0-1\" x=\"46.320312\" y=\"153.191406\"/>\n",
       "</g>\n",
       "<g style=\"fill:rgb(0%,0%,0%);fill-opacity:1;\">\n",
       "  <use xlink:href=\"#glyph0-1\" x=\"53.972656\" y=\"153.191406\"/>\n",
       "</g>\n",
       "<g style=\"fill:rgb(0%,0%,0%);fill-opacity:1;\">\n",
       "  <use xlink:href=\"#glyph0-1\" x=\"61.625\" y=\"153.191406\"/>\n",
       "</g>\n",
       "<g style=\"fill:rgb(0%,0%,0%);fill-opacity:1;\">\n",
       "  <use xlink:href=\"#glyph0-1\" x=\"69.273438\" y=\"153.191406\"/>\n",
       "</g>\n",
       "<g style=\"fill:rgb(0%,0%,0%);fill-opacity:1;\">\n",
       "  <use xlink:href=\"#glyph0-1\" x=\"76.925781\" y=\"153.191406\"/>\n",
       "</g>\n",
       "<g style=\"fill:rgb(0%,0%,0%);fill-opacity:1;\">\n",
       "  <use xlink:href=\"#glyph0-1\" x=\"84.578125\" y=\"153.191406\"/>\n",
       "</g>\n",
       "<g style=\"fill:rgb(0%,0%,0%);fill-opacity:1;\">\n",
       "  <use xlink:href=\"#glyph0-2\" x=\"31.019531\" y=\"86.8125\"/>\n",
       "</g>\n",
       "<g style=\"fill:rgb(0%,0%,0%);fill-opacity:1;\">\n",
       "  <use xlink:href=\"#glyph0-3\" x=\"38.671875\" y=\"86.8125\"/>\n",
       "</g>\n",
       "<g style=\"fill:rgb(0%,0%,0%);fill-opacity:1;\">\n",
       "  <use xlink:href=\"#glyph0-1\" x=\"46.320312\" y=\"86.8125\"/>\n",
       "</g>\n",
       "<g style=\"fill:rgb(0%,0%,0%);fill-opacity:1;\">\n",
       "  <use xlink:href=\"#glyph0-1\" x=\"53.972656\" y=\"86.8125\"/>\n",
       "</g>\n",
       "<g style=\"fill:rgb(0%,0%,0%);fill-opacity:1;\">\n",
       "  <use xlink:href=\"#glyph0-1\" x=\"61.625\" y=\"86.8125\"/>\n",
       "</g>\n",
       "<g style=\"fill:rgb(0%,0%,0%);fill-opacity:1;\">\n",
       "  <use xlink:href=\"#glyph0-1\" x=\"69.273438\" y=\"86.8125\"/>\n",
       "</g>\n",
       "<g style=\"fill:rgb(0%,0%,0%);fill-opacity:1;\">\n",
       "  <use xlink:href=\"#glyph0-1\" x=\"76.925781\" y=\"86.8125\"/>\n",
       "</g>\n",
       "<g style=\"fill:rgb(0%,0%,0%);fill-opacity:1;\">\n",
       "  <use xlink:href=\"#glyph0-1\" x=\"84.578125\" y=\"86.8125\"/>\n",
       "</g>\n",
       "<g style=\"fill:rgb(0%,0%,0%);fill-opacity:1;\">\n",
       "  <use xlink:href=\"#glyph1-1\" x=\"518.984375\" y=\"531.429688\"/>\n",
       "</g>\n",
       "<g style=\"fill:rgb(0%,0%,0%);fill-opacity:1;\">\n",
       "  <use xlink:href=\"#glyph2-1\" x=\"22.804687\" y=\"262.867187\"/>\n",
       "</g>\n",
       "<path style=\"fill:none;stroke-width:0.5;stroke-linecap:round;stroke-linejoin:miter;stroke:rgb(0%,0%,0%);stroke-opacity:0.3;stroke-miterlimit:10;\" d=\"M 121.140625 499.320312 L 121.140625 18.304688 \"/>\n",
       "<path style=\"fill:none;stroke-width:0.5;stroke-linecap:round;stroke-linejoin:miter;stroke:rgb(0%,0%,0%);stroke-opacity:0.3;stroke-miterlimit:10;\" d=\"M 252.902344 499.320312 L 252.902344 18.304688 \"/>\n",
       "<path style=\"fill:none;stroke-width:0.5;stroke-linecap:round;stroke-linejoin:miter;stroke:rgb(0%,0%,0%);stroke-opacity:0.3;stroke-miterlimit:10;\" d=\"M 384.667969 499.320312 L 384.667969 18.304688 \"/>\n",
       "<path style=\"fill:none;stroke-width:0.5;stroke-linecap:round;stroke-linejoin:miter;stroke:rgb(0%,0%,0%);stroke-opacity:0.3;stroke-miterlimit:10;\" d=\"M 516.429688 499.320312 L 516.429688 18.304688 \"/>\n",
       "<path style=\"fill:none;stroke-width:0.5;stroke-linecap:round;stroke-linejoin:miter;stroke:rgb(0%,0%,0%);stroke-opacity:0.3;stroke-miterlimit:10;\" d=\"M 648.191406 499.320312 L 648.191406 18.304688 \"/>\n",
       "<path style=\"fill:none;stroke-width:0.5;stroke-linecap:round;stroke-linejoin:miter;stroke:rgb(0%,0%,0%);stroke-opacity:0.3;stroke-miterlimit:10;\" d=\"M 779.957031 499.320312 L 779.957031 18.304688 \"/>\n",
       "<path style=\"fill:none;stroke-width:0.5;stroke-linecap:round;stroke-linejoin:miter;stroke:rgb(0%,0%,0%);stroke-opacity:0.3;stroke-miterlimit:10;\" d=\"M 911.71875 499.320312 L 911.71875 18.304688 \"/>\n",
       "<path style=\"fill:none;stroke-width:0.5;stroke-linecap:round;stroke-linejoin:miter;stroke:rgb(0%,0%,0%);stroke-opacity:0.3;stroke-miterlimit:10;\" d=\"M 95.445312 480.925781 L 950.589844 480.925781 \"/>\n",
       "<path style=\"fill:none;stroke-width:0.5;stroke-linecap:round;stroke-linejoin:miter;stroke:rgb(0%,0%,0%);stroke-opacity:0.3;stroke-miterlimit:10;\" d=\"M 95.445312 414.546875 L 950.589844 414.546875 \"/>\n",
       "<path style=\"fill:none;stroke-width:0.5;stroke-linecap:round;stroke-linejoin:miter;stroke:rgb(0%,0%,0%);stroke-opacity:0.3;stroke-miterlimit:10;\" d=\"M 95.445312 348.167969 L 950.589844 348.167969 \"/>\n",
       "<path style=\"fill:none;stroke-width:0.5;stroke-linecap:round;stroke-linejoin:miter;stroke:rgb(0%,0%,0%);stroke-opacity:0.3;stroke-miterlimit:10;\" d=\"M 95.445312 281.789062 L 950.589844 281.789062 \"/>\n",
       "<path style=\"fill:none;stroke-width:0.5;stroke-linecap:round;stroke-linejoin:miter;stroke:rgb(0%,0%,0%);stroke-opacity:0.3;stroke-miterlimit:10;\" d=\"M 95.445312 215.410156 L 950.589844 215.410156 \"/>\n",
       "<path style=\"fill:none;stroke-width:0.5;stroke-linecap:round;stroke-linejoin:miter;stroke:rgb(0%,0%,0%);stroke-opacity:0.3;stroke-miterlimit:10;\" d=\"M 95.445312 149.03125 L 950.589844 149.03125 \"/>\n",
       "<path style=\"fill:none;stroke-width:0.5;stroke-linecap:round;stroke-linejoin:miter;stroke:rgb(0%,0%,0%);stroke-opacity:0.3;stroke-miterlimit:10;\" d=\"M 95.445312 82.648438 L 950.589844 82.648438 \"/>\n",
       "<path style=\"fill:none;stroke-width:1;stroke-linecap:round;stroke-linejoin:miter;stroke:rgb(0%,0%,0%);stroke-opacity:0.4;stroke-miterlimit:10;\" d=\"M 121.140625 501.726562 L 121.140625 499.320312 \"/>\n",
       "<path style=\"fill:none;stroke-width:1;stroke-linecap:round;stroke-linejoin:miter;stroke:rgb(0%,0%,0%);stroke-opacity:0.4;stroke-miterlimit:10;\" d=\"M 252.902344 501.726562 L 252.902344 499.320312 \"/>\n",
       "<path style=\"fill:none;stroke-width:1;stroke-linecap:round;stroke-linejoin:miter;stroke:rgb(0%,0%,0%);stroke-opacity:0.4;stroke-miterlimit:10;\" d=\"M 384.667969 501.726562 L 384.667969 499.320312 \"/>\n",
       "<path style=\"fill:none;stroke-width:1;stroke-linecap:round;stroke-linejoin:miter;stroke:rgb(0%,0%,0%);stroke-opacity:0.4;stroke-miterlimit:10;\" d=\"M 516.429688 501.726562 L 516.429688 499.320312 \"/>\n",
       "<path style=\"fill:none;stroke-width:1;stroke-linecap:round;stroke-linejoin:miter;stroke:rgb(0%,0%,0%);stroke-opacity:0.4;stroke-miterlimit:10;\" d=\"M 648.191406 501.726562 L 648.191406 499.320312 \"/>\n",
       "<path style=\"fill:none;stroke-width:1;stroke-linecap:round;stroke-linejoin:miter;stroke:rgb(0%,0%,0%);stroke-opacity:0.4;stroke-miterlimit:10;\" d=\"M 779.957031 501.726562 L 779.957031 499.320312 \"/>\n",
       "<path style=\"fill:none;stroke-width:1;stroke-linecap:round;stroke-linejoin:miter;stroke:rgb(0%,0%,0%);stroke-opacity:0.4;stroke-miterlimit:10;\" d=\"M 911.71875 501.726562 L 911.71875 499.320312 \"/>\n",
       "<path style=\"fill:none;stroke-width:1;stroke-linecap:round;stroke-linejoin:miter;stroke:rgb(0%,0%,0%);stroke-opacity:0.4;stroke-miterlimit:10;\" d=\"M 93.042969 480.925781 L 95.445312 480.925781 \"/>\n",
       "<path style=\"fill:none;stroke-width:1;stroke-linecap:round;stroke-linejoin:miter;stroke:rgb(0%,0%,0%);stroke-opacity:0.4;stroke-miterlimit:10;\" d=\"M 93.042969 414.546875 L 95.445312 414.546875 \"/>\n",
       "<path style=\"fill:none;stroke-width:1;stroke-linecap:round;stroke-linejoin:miter;stroke:rgb(0%,0%,0%);stroke-opacity:0.4;stroke-miterlimit:10;\" d=\"M 93.042969 348.167969 L 95.445312 348.167969 \"/>\n",
       "<path style=\"fill:none;stroke-width:1;stroke-linecap:round;stroke-linejoin:miter;stroke:rgb(0%,0%,0%);stroke-opacity:0.4;stroke-miterlimit:10;\" d=\"M 93.042969 281.789062 L 95.445312 281.789062 \"/>\n",
       "<path style=\"fill:none;stroke-width:1;stroke-linecap:round;stroke-linejoin:miter;stroke:rgb(0%,0%,0%);stroke-opacity:0.4;stroke-miterlimit:10;\" d=\"M 93.042969 215.410156 L 95.445312 215.410156 \"/>\n",
       "<path style=\"fill:none;stroke-width:1;stroke-linecap:round;stroke-linejoin:miter;stroke:rgb(0%,0%,0%);stroke-opacity:0.4;stroke-miterlimit:10;\" d=\"M 93.042969 149.03125 L 95.445312 149.03125 \"/>\n",
       "<path style=\"fill:none;stroke-width:1;stroke-linecap:round;stroke-linejoin:miter;stroke:rgb(0%,0%,0%);stroke-opacity:0.4;stroke-miterlimit:10;\" d=\"M 93.042969 82.648438 L 95.445312 82.648438 \"/>\n",
       "<path style=\"fill:none;stroke-width:1;stroke-linecap:round;stroke-linejoin:miter;stroke:rgb(0%,0%,0%);stroke-opacity:1;stroke-miterlimit:10;\" d=\"M 134.316406 473.984375 L 147.492188 473.996094 L 160.667969 475.078125 L 173.84375 474.855469 L 187.023438 473.890625 L 200.199219 474.933594 L 213.375 474.648438 L 226.550781 474.472656 L 239.726562 475.078125 L 252.902344 475.117188 L 266.078125 475.738281 L 279.257812 475.65625 L 292.433594 476.09375 L 305.609375 476.011719 L 318.785156 476.023438 L 331.960938 471.859375 L 345.136719 478.796875 L 358.3125 477.050781 L 371.488281 481.296875 L 384.667969 18.304688 L 397.84375 472.144531 L 411.019531 473.882812 L 424.195312 470.441406 L 437.371094 481.980469 L 450.546875 471.148438 L 463.722656 474.550781 L 476.902344 450.722656 L 490.078125 472.40625 L 503.253906 474.710938 L 516.429688 475.839844 L 529.605469 475.441406 L 542.78125 475.574219 L 555.957031 478.253906 L 569.132812 476.148438 L 582.3125 476.195312 L 595.488281 499.03125 L 608.664062 477.734375 L 621.839844 476.9375 L 635.015625 481.820312 L 648.191406 477.777344 L 661.367188 477.175781 L 674.542969 478.261719 L 687.722656 481.023438 L 700.898438 477.28125 L 714.074219 476.550781 L 727.25 463.558594 L 740.425781 499.320312 L 753.601562 483.601562 L 766.777344 473.949219 L 779.957031 442.734375 L 793.132812 475.179688 L 806.308594 475.3125 L 819.484375 475.5625 L 832.660156 476.429688 L 845.835938 475.730469 L 859.011719 474.769531 L 872.1875 476.328125 L 885.367188 476.242188 L 898.542969 476.164062 L 911.71875 475.976562 \"/>\n",
       "</g>\n",
       "</svg>\n"
      ],
      "text/plain": [
       "Scene (960px, 540px):\n",
       "  2 Plots:\n",
       "    ├ Axis2D{Tuple{Tuple{Tuple{Float32, Float32}, Tuple{Float32, Float32}}}}\n",
       "    └ Lines{Tuple{Vector{Point{2, Float32}}}}\n",
       "  1 Child Scene:\n",
       "    └ Scene (960px, 540px)\n",
       "\n",
       "To show the scene in a window, try setting `AbstractPlotting.inline!(false)`."
      ]
     },
     "execution_count": 156,
     "metadata": {},
     "output_type": "execute_result"
    }
   ],
   "source": [
    "lines(int_APE)"
   ]
  },
  {
   "cell_type": "code",
   "execution_count": 158,
   "id": "658d133a-559f-4d2e-877d-f372cfd3b663",
   "metadata": {},
   "outputs": [
    {
     "data": {
      "text/plain": [
       "7"
      ]
     },
     "execution_count": 158,
     "metadata": {},
     "output_type": "execute_result"
    }
   ],
   "source": [
    "count(int_APE .< 0)"
   ]
  },
  {
   "cell_type": "code",
   "execution_count": null,
   "id": "a70860eb-0168-48e8-aa9e-258551799753",
   "metadata": {},
   "outputs": [],
   "source": [
    "a = heatmap((N2 .< 0)')"
   ]
  },
  {
   "cell_type": "code",
   "execution_count": 66,
   "id": "716110d1-85c4-4157-b80f-5cee955638bb",
   "metadata": {},
   "outputs": [
    {
     "data": {
      "text/plain": [
       "80×1 Matrix{Float32}:\n",
       " -0.00011726318\n",
       " -4.5403016f-5\n",
       " -1.836081f-5\n",
       " -7.96422f-6\n",
       " -3.181649f-6\n",
       "  1.7201572f-6\n",
       "  6.3770653f-6\n",
       "  1.2307018f-5\n",
       "  1.8686434f-5\n",
       "  2.6117401f-5\n",
       "  3.3086664f-5\n",
       "  4.2344793f-5\n",
       "  5.110639f-5\n",
       "  ⋮\n",
       "  0.0004737573\n",
       "  0.00049515214\n",
       "  0.00047884544\n",
       "  0.00045558464\n",
       "  0.00043433072\n",
       "  0.00043662966\n",
       "  0.0004452471\n",
       "  0.00044595648\n",
       "  0.0004457855\n",
       "  0.0004470087\n",
       "  0.0004467008\n",
       "  0.0004467008"
      ]
     },
     "execution_count": 66,
     "metadata": {},
     "output_type": "execute_result"
    }
   ],
   "source": [
    "mean(N2,dims=2)"
   ]
  },
  {
   "cell_type": "code",
   "execution_count": 65,
   "id": "1bf8ef10-8035-4607-9690-d8758f52c4e5",
   "metadata": {},
   "outputs": [
    {
     "ename": "LoadError",
     "evalue": "You are using a matrix for vertices which uses neither dimension to encode the dimension of the space. Please have either size(verts, 1/2) in the range of 2-3. Found: (80, 1)",
     "output_type": "error",
     "traceback": [
      "You are using a matrix for vertices which uses neither dimension to encode the dimension of the space. Please have either size(verts, 1/2) in the range of 2-3. Found: (80, 1)",
      "",
      "Stacktrace:",
      "  [1] error(s::String)",
      "    @ Base ./error.jl:33",
      "  [2] to_vertices(verts::Matrix{Float32})",
      "    @ AbstractPlotting ~/.julia/packages/AbstractPlotting/JCbJs/src/conversions.jl:533",
      "  [3] convert_arguments",
      "    @ ~/.julia/packages/AbstractPlotting/JCbJs/src/conversions.jl:103 [inlined]",
      "  [4] convert_arguments(T::Type{Lines{Tuple{Matrix{Float32}}}}, args::Matrix{Float32}; kw::Base.Iterators.Pairs{Union{}, Union{}, Tuple{}, NamedTuple{(), Tuple{}}})",
      "    @ AbstractPlotting ~/.julia/packages/AbstractPlotting/JCbJs/src/conversions.jl:43",
      "  [5] convert_arguments",
      "    @ ~/.julia/packages/AbstractPlotting/JCbJs/src/conversions.jl:41 [inlined]",
      "  [6] plot!(scene::Scene, P::Type{Lines{ArgType} where ArgType}, attributes::Attributes, args::Matrix{Float32}; kw_attributes::Base.Iterators.Pairs{Union{}, Union{}, Tuple{}, NamedTuple{(), Tuple{}}})",
      "    @ AbstractPlotting ~/.julia/packages/AbstractPlotting/JCbJs/src/interfaces.jl:610",
      "  [7] plot!(scene::Scene, P::Type{Lines{ArgType} where ArgType}, attributes::Attributes, args::Matrix{Float32})",
      "    @ AbstractPlotting ~/.julia/packages/AbstractPlotting/JCbJs/src/interfaces.jl:597",
      "  [8] plot(P::Type{Lines{ArgType} where ArgType}, attrs::Attributes, args::Matrix{Float32}; kw_attributes::Base.Iterators.Pairs{Union{}, Union{}, Tuple{}, NamedTuple{(), Tuple{}}})",
      "    @ AbstractPlotting ~/.julia/packages/AbstractPlotting/JCbJs/src/interfaces.jl:558",
      "  [9] plot",
      "    @ ~/.julia/packages/AbstractPlotting/JCbJs/src/interfaces.jl:555 [inlined]",
      " [10] plot(P::Type{Lines{ArgType} where ArgType}, args::Matrix{Float32}; kw_attributes::Base.Iterators.Pairs{Union{}, Union{}, Tuple{}, NamedTuple{(), Tuple{}}})",
      "    @ AbstractPlotting ~/.julia/packages/AbstractPlotting/JCbJs/src/interfaces.jl:549",
      " [11] plot",
      "    @ ~/.julia/packages/AbstractPlotting/JCbJs/src/interfaces.jl:548 [inlined]",
      " [12] #lines#140",
      "    @ ~/.julia/packages/AbstractPlotting/JCbJs/src/recipes.jl:12 [inlined]",
      " [13] lines(args::Matrix{Float32})",
      "    @ AbstractPlotting ~/.julia/packages/AbstractPlotting/JCbJs/src/recipes.jl:12",
      " [14] top-level scope",
      "    @ In[65]:1",
      " [15] eval",
      "    @ ./boot.jl:360 [inlined]",
      " [16] include_string(mapexpr::typeof(REPL.softscope), mod::Module, code::String, filename::String)",
      "    @ Base ./loading.jl:1094"
     ]
    }
   ],
   "source": [
    "lines(mean(N2,dims=2))"
   ]
  },
  {
   "cell_type": "code",
   "execution_count": null,
   "id": "32c17623-6b7c-4948-8aab-e9c031e04039",
   "metadata": {},
   "outputs": [],
   "source": []
  }
 ],
 "metadata": {
  "kernelspec": {
   "display_name": "Julia 1.6.0",
   "language": "julia",
   "name": "julia-1.6"
  },
  "language_info": {
   "file_extension": ".jl",
   "mimetype": "application/julia",
   "name": "julia",
   "version": "1.6.0"
  }
 },
 "nbformat": 4,
 "nbformat_minor": 5
}
