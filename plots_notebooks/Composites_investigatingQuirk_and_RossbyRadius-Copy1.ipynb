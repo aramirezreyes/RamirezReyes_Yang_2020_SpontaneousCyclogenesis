{
 "cells": [
  {
   "cell_type": "code",
   "execution_count": 1,
   "metadata": {},
   "outputs": [],
   "source": [
    "using AvailablePotentialEnergyFramework, Statistics, JLD, NCDatasets"
   ]
  },
  {
   "cell_type": "code",
   "execution_count": 2,
   "metadata": {},
   "outputs": [
    {
     "data": {
      "text/plain": [
       "PyObject <module 'matplotlib.colors' from '/usr/common/software/python/3.7-anaconda-2019.10/lib/python3.7/site-packages/matplotlib/colors.py'>"
      ]
     },
     "execution_count": 2,
     "metadata": {},
     "output_type": "execute_result"
    }
   ],
   "source": [
    "using PyPlot, PyCall\n",
    "tkr = pyimport(\"matplotlib.ticker\")# import FormatStrFormatter\n",
    "#from matplotlib.colors import DivergingNorm\n",
    "c = pyimport(\"matplotlib.colors\")"
   ]
  },
  {
   "cell_type": "code",
   "execution_count": 3,
   "metadata": {},
   "outputs": [
    {
     "data": {
      "text/plain": [
       "\"3.1.1\""
      ]
     },
     "execution_count": 3,
     "metadata": {},
     "output_type": "execute_result"
    }
   ],
   "source": [
    "PyPlot.matplotlib.__version__"
   ]
  },
  {
   "cell_type": "code",
   "execution_count": 4,
   "metadata": {},
   "outputs": [
    {
     "data": {
      "text/plain": [
       "\"/global/u2/a/aramreye/RamirezReyes_Yang_2020_SpontaneousCyclogenesis/plotsandanimations/\""
      ]
     },
     "execution_count": 4,
     "metadata": {},
     "output_type": "execute_result"
    }
   ],
   "source": [
    "data_dir = \"/global/cscratch1/sd/aramreye/for_postprocessing/CompositeOutputs_50d_9hpa_checkingInteraction/\"\n",
    "output_dir = \"/global/u2/a/aramreye/RamirezReyes_Yang_2020_SpontaneousCyclogenesis/plotsandanimations/\""
   ]
  },
  {
   "cell_type": "code",
   "execution_count": 5,
   "metadata": {},
   "outputs": [
    {
     "data": {
      "text/plain": [
       "4-element Array{String,1}:\n",
       " \"f5e-4_2km_1000km_control_withmask.jld\"\n",
       " \"f5e-4_2km_1000km_homoRad_homoSfc_withmask.jld\"\n",
       " \"f5e-4_2km_1000km_homoRad_withmask.jld\"\n",
       " \"f5e-4_2km_1000km_homoSfc_withmask.jld\""
      ]
     },
     "execution_count": 5,
     "metadata": {},
     "output_type": "execute_result"
    }
   ],
   "source": [
    "file_list_nomask = [\"f5e-4_2km_1000km_control_nomask.jld\"\n",
    "\"f5e-4_2km_1000km_homoRad_homoSfc_nomask.jld\"\n",
    "\"f5e-4_2km_1000km_homoRad_nomask.jld\"\n",
    "\"f5e-4_2km_1000km_homoSfc_nomask.jld\"]\n",
    "file_list_withmask = [\"f5e-4_2km_1000km_control_withmask.jld\"\n",
    "\"f5e-4_2km_1000km_homoRad_homoSfc_withmask.jld\"\n",
    "\"f5e-4_2km_1000km_homoRad_withmask.jld\"\n",
    "\"f5e-4_2km_1000km_homoSfc_withmask.jld\"]"
   ]
  },
  {
   "cell_type": "code",
   "execution_count": 6,
   "metadata": {},
   "outputs": [
    {
     "data": {
      "text/plain": [
       "Dict{String,Any} with 17 entries:\n",
       "  \"W\"                      => Float32[0.0 0.0 … 0.0 0.0; 0.0 0.0 … 0.0 0.0; … ;…\n",
       "  \"LHF\"                    => Float32[116.426 116.426 … 116.426 116.426; 116.42…\n",
       "  \"V\"                      => Float32[0.262151 0.330834 … 0.222891 0.246164; 0.…\n",
       "  \"QRAD\"                   => Float32[-1.54948 -1.54948 … -1.54948 -1.54948; -1…\n",
       "  \"PW\"                     => Float32[45.073 45.0976 … 45.0895 45.0738; 45.107 …\n",
       "  \"USFC\"                   => Float32[-0.6047 -0.604707 … -0.586771 -0.566934; …\n",
       "  \"PSFC\"                   => Float32[1001.09 1001.09 … 1001.07 1001.08; 1001.1…\n",
       "  \"PP\"                     => Float32[-149.554 -148.72 … -151.356 -150.449; -14…\n",
       "  \"QV\"                     => Float32[17.2424 17.2662 … 17.2379 17.2461; 17.249…\n",
       "  \"Prec\"                   => Float32[4.83068 4.96832 … 4.20037 4.16078; 4.5020…\n",
       "  \"convec_heating_anomaly\" => Float32[-2.26617f-7 4.45233f-7 … -3.67672f-7 8.84…\n",
       "  \"VSFC\"                   => Float32[0.262297 0.331158 … 0.222852 0.246337; 0.…\n",
       "  \"SHF\"                    => Float32[12.6084 12.6084 … 12.6084 12.6084; 12.608…\n",
       "  \"TABS\"                   => Float32[298.005 298.014 … 298.0 298.003; 298.002 …\n",
       "  \"buoyancy_anomaly\"       => Float32[0.00881152 0.00923427 … 0.00865643 0.0087…\n",
       "  \"rad_heating_anomaly\"    => Float32[1.39531f-14 1.39531f-14 … 1.39531f-14 1.3…\n",
       "  \"U\"                      => Float32[-0.604549 -0.604526 … -0.586729 -0.566888…"
      ]
     },
     "execution_count": 6,
     "metadata": {},
     "output_type": "execute_result"
    }
   ],
   "source": [
    "control_withmask_composite =  load(string(data_dir,\"f5e-4_2km_1000km_control_withmask.jld\"))\n",
    "control_nomask_composite =  load(string(data_dir,\"f5e-4_2km_1000km_control_nomask.jld\"))\n",
    "homoSfc_withmask_composite =  load(string(data_dir,\"f5e-4_2km_1000km_homoSfc_withmask.jld\"))\n",
    "homoSfc_nomask_composite =  load(string(data_dir,\"f5e-4_2km_1000km_homoSfc_nomask.jld\"))\n",
    "homoRad_withmask_composite =  load(string(data_dir,\"f5e-4_2km_1000km_homoRad_withmask.jld\"))\n",
    "homoRad_nomask_composite =  load(string(data_dir,\"f5e-4_2km_1000km_homoRad_nomask.jld\"))\n",
    "homoAll_withmask_composite =  load(string(data_dir,\"f5e-4_2km_1000km_homoRad_homoSfc_withmask.jld\"))\n",
    "homoAll_nomask_composite =  load(string(data_dir,\"f5e-4_2km_1000km_homoRad_homoSfc_nomask.jld\"))"
   ]
  },
  {
   "cell_type": "code",
   "execution_count": 7,
   "metadata": {},
   "outputs": [
    {
     "ename": "LoadError",
     "evalue": "ArgumentError: No file exists at given path: /global/cscratch1/sd/aramreye/for_postprocessing/CompositeOutputs_50d_9hpa_15days/f5e-4_2km_1000km_control_nomask.jld",
     "output_type": "error",
     "traceback": [
      "ArgumentError: No file exists at given path: /global/cscratch1/sd/aramreye/for_postprocessing/CompositeOutputs_50d_9hpa_15days/f5e-4_2km_1000km_control_nomask.jld",
      "",
      "Stacktrace:",
      " [1] checkpath_load at /global/homes/a/aramreye/.julia/packages/FileIO/JA3Vl/src/loadsave.jl:167 [inlined]",
      " [2] load(::String; options::Base.Iterators.Pairs{Union{},Union{},Tuple{},NamedTuple{(),Tuple{}}}) at /global/homes/a/aramreye/.julia/packages/FileIO/JA3Vl/src/loadsave.jl:110",
      " [3] load(::String) at /global/homes/a/aramreye/.julia/packages/FileIO/JA3Vl/src/loadsave.jl:110",
      " [4] top-level scope at In[7]:2",
      " [5] include_string(::Function, ::Module, ::String, ::String) at ./loading.jl:1091"
     ]
    }
   ],
   "source": [
    "data_dir_last15 = \"/global/cscratch1/sd/aramreye/for_postprocessing/CompositeOutputs_50d_9hpa_15days/\"\n",
    "control_nomask_composite_last15 =  load(string(data_dir_last15,\"f5e-4_2km_1000km_control_nomask.jld\"))\n",
    "homoSfc_nomask_composite_last15 =  load(string(data_dir_last15,\"f5e-4_2km_1000km_homoSfc_nomask.jld\"))\n",
    "homoRad_nomask_composite_last15 =  load(string(data_dir_last15,\"f5e-4_2km_1000km_homoRad_nomask.jld\"))\n",
    "homoAll_nomask_composite_last15 =  load(string(data_dir_last15,\"f5e-4_2km_1000km_homoRad_homoSfc_nomask.jld\"))"
   ]
  },
  {
   "cell_type": "code",
   "execution_count": 8,
   "metadata": {},
   "outputs": [
    {
     "ename": "LoadError",
     "evalue": "ArgumentError: No file exists at given path: /global/cscratch1/sd/aramreye/for_postprocessing/CompositeOutputs_50d_9hpa_10days/f5e-4_2km_1000km_control_nomask.jld",
     "output_type": "error",
     "traceback": [
      "ArgumentError: No file exists at given path: /global/cscratch1/sd/aramreye/for_postprocessing/CompositeOutputs_50d_9hpa_10days/f5e-4_2km_1000km_control_nomask.jld",
      "",
      "Stacktrace:",
      " [1] checkpath_load at /global/homes/a/aramreye/.julia/packages/FileIO/JA3Vl/src/loadsave.jl:167 [inlined]",
      " [2] load(::String; options::Base.Iterators.Pairs{Union{},Union{},Tuple{},NamedTuple{(),Tuple{}}}) at /global/homes/a/aramreye/.julia/packages/FileIO/JA3Vl/src/loadsave.jl:110",
      " [3] load(::String) at /global/homes/a/aramreye/.julia/packages/FileIO/JA3Vl/src/loadsave.jl:110",
      " [4] top-level scope at In[8]:2",
      " [5] include_string(::Function, ::Module, ::String, ::String) at ./loading.jl:1091"
     ]
    }
   ],
   "source": [
    "data_dir_last10 = \"/global/cscratch1/sd/aramreye/for_postprocessing/CompositeOutputs_50d_9hpa_10days/\"\n",
    "control_nomask_composite_last10 =  load(string(data_dir_last10,\"f5e-4_2km_1000km_control_nomask.jld\"))\n",
    "homoSfc_nomask_composite_last10 =  load(string(data_dir_last10,\"f5e-4_2km_1000km_homoSfc_nomask.jld\"))\n",
    "homoRad_nomask_composite_last10 =  load(string(data_dir_last10,\"f5e-4_2km_1000km_homoRad_nomask.jld\"))\n",
    "homoAll_nomask_composite_last10 =  load(string(data_dir_last10,\"f5e-4_2km_1000km_homoRad_homoSfc_nomask.jld\"))"
   ]
  },
  {
   "cell_type": "code",
   "execution_count": 9,
   "metadata": {},
   "outputs": [
    {
     "data": {
      "text/plain": [
       "buoyancy (generic function with 1 method)"
      ]
     },
     "execution_count": 9,
     "metadata": {},
     "output_type": "execute_result"
    }
   ],
   "source": [
    "function buoyancy(exp_name,composite)\n",
    "    data_dir = \"$(ENV[\"SCRATCH\"])/for_postprocessing/largencfiles/\"\n",
    "    #exp_name = \"f5e-4_2km_1000km_homoRad_homoSfc_3d.nc\"\n",
    "    c1 = (Dryair.R/Dryair.cp)\n",
    "    z = [50 100 150 200 250 300 350 400 450 500 550 600 650 700 750 800 850 900 950 1000 1050 1178.57142857143 1385.71428571429 1671.42857142857 2035.71428571429 2478.57142857143 3000 3600 4200 4800 5400 6000 6600 7200 7800 8400 9000 9600 10200 10800 11400 12000 12600 13200 13800 14400 15000 15600 16200 16800 17400 18000 18600 19200 19800 20400 21000 21600 22200 22800 23400 24000 24600 25200 25800 26400 27000 27600 28200 28800 29400 30000 30600 31200 31800 32400 33000 33600 34200 34800];\n",
    "    P0 = Dataset(joinpath(data_dir,exp_name)) do ds\n",
    "        1e2ds[\"p\"]\n",
    "    end\n",
    "    PP           = composite[\"PP\"] .+ reshape(P0,(1,1,length(z),1))\n",
    "    ThetaV       = composite[\"TABS\"].*(1 .+ 1e-3epsilon.*composite[\"QV\"])\n",
    "    xBar_TV      = mean(ThetaV,dims=(1,2))\n",
    "    ThetaV       = ThetaV.*(P0[1]./PP).^c1\n",
    "    xBar_ThetaV  = mean(ThetaV,dims=(1,2))\n",
    "    var_ThetaV   =  ThetaV .- xBar_ThetaV\n",
    "    B            = g .* var_ThetaV./xBar_ThetaV\n",
    "    N2           = compute_N2(xBar_TV,z)\n",
    "    return B,N2\n",
    "end    "
   ]
  },
  {
   "cell_type": "code",
   "execution_count": 10,
   "metadata": {},
   "outputs": [
    {
     "name": "stdout",
     "output_type": "stream",
     "text": [
      "length(ind_smallN2) = 15\n",
      "length(ind_smallN2) = 14\n",
      "length(ind_smallN2) = 14\n",
      "length(ind_smallN2) = 14\n",
      "length(ind_smallN2) = 13\n",
      "length(ind_smallN2) = 13\n",
      "length(ind_smallN2) = 13\n",
      "length(ind_smallN2) = 12\n",
      "length(ind_smallN2) = 12\n",
      "length(ind_smallN2) = 11\n",
      "length(ind_smallN2) = 18\n",
      "length(ind_smallN2) = 17\n",
      "length(ind_smallN2) = 16\n",
      "length(ind_smallN2) = 16\n",
      "length(ind_smallN2) = 15\n",
      "length(ind_smallN2) = 15\n",
      "length(ind_smallN2) = 15\n",
      "length(ind_smallN2) = 15\n",
      "length(ind_smallN2) = 14\n",
      "length(ind_smallN2) = 14\n",
      "length(ind_smallN2) = 20\n",
      "length(ind_smallN2) = 19\n",
      "length(ind_smallN2) = 18\n",
      "length(ind_smallN2) = 17\n",
      "length(ind_smallN2) = 17\n",
      "length(ind_smallN2) = 16\n",
      "length(ind_smallN2) = 16\n",
      "length(ind_smallN2) = 15\n",
      "length(ind_smallN2) = 14\n",
      "length(ind_smallN2) = 14\n",
      "length(ind_smallN2) = 26\n",
      "length(ind_smallN2) = 23\n",
      "length(ind_smallN2) = 22\n",
      "length(ind_smallN2) = 22\n",
      "length(ind_smallN2) = 21\n",
      "length(ind_smallN2) = 21\n",
      "length(ind_smallN2) = 20\n",
      "length(ind_smallN2) = 19\n",
      "length(ind_smallN2) = 18\n",
      "length(ind_smallN2) = 18\n",
      "length(ind_smallN2) = 26\n",
      "length(ind_smallN2) = 23\n",
      "length(ind_smallN2) = 22\n",
      "length(ind_smallN2) = 22\n",
      "length(ind_smallN2) = 21\n",
      "length(ind_smallN2) = 21\n",
      "length(ind_smallN2) = 20\n",
      "length(ind_smallN2) = 19\n",
      "length(ind_smallN2) = 18\n",
      "length(ind_smallN2) = 18\n",
      "length(ind_smallN2) = 26\n",
      "length(ind_smallN2) = 23\n",
      "length(ind_smallN2) = 22\n",
      "length(ind_smallN2) = 22\n",
      "length(ind_smallN2) = 21\n",
      "length(ind_smallN2) = 21\n",
      "length(ind_smallN2) = 20\n",
      "length(ind_smallN2) = 19\n",
      "length(ind_smallN2) = 18\n",
      "length(ind_smallN2) = 18\n"
     ]
    }
   ],
   "source": [
    "B_control, N2_control = buoyancy(\"f5e-4_2km_1000km_control_3d.nc\",control_nomask_composite)\n",
    "B_homoRad, N2_homoRad = buoyancy(\"f5e-4_2km_1000km_homoRad_3d.nc\",homoRad_nomask_composite)\n",
    "B_homoSfc, N2_homoSfc = buoyancy(\"f5e-4_2km_1000km_homoSfc_3d.nc\",homoSfc_nomask_composite)\n",
    "B_homoRad_homoSfc, N2_homoRad_homoSfc = buoyancy(\"f5e-4_2km_1000km_homoRad_homoSfc_3d.nc\",homoAll_nomask_composite);\n",
    "B_homoRad_homoSfc_f1, N2_homoRad_homoSfc_f1 = buoyancy(\"f1e-4_2km_1000km_homoRad_homoSfc_3d.nc\",homoAll_nomask_composite);\n",
    "B_homoRad_homoSfc_f3, N2_homoRad_homoSfc_f3 = buoyancy(\"f3e-4_2km_1000km_homoRad_homoSfc_3d.nc\",homoAll_nomask_composite);"
   ]
  },
  {
   "cell_type": "code",
   "execution_count": 11,
   "metadata": {},
   "outputs": [],
   "source": [
    "B2_control = B_control .* B_control\n",
    "B2_homoRad = B_homoRad .* B_homoRad\n",
    "B2_homoSfc = B_homoSfc .* B_homoSfc\n",
    "B2_homoRad_homoSfc = B_homoRad_homoSfc .* B_homoRad_homoSfc;"
   ]
  },
  {
   "cell_type": "code",
   "execution_count": 12,
   "metadata": {},
   "outputs": [
    {
     "ename": "LoadError",
     "evalue": "UndefVarError: control_nomask_composite_last15 not defined",
     "output_type": "error",
     "traceback": [
      "UndefVarError: control_nomask_composite_last15 not defined",
      "",
      "Stacktrace:",
      " [1] top-level scope at In[12]:1",
      " [2] include_string(::Function, ::Module, ::String, ::String) at ./loading.jl:1091"
     ]
    }
   ],
   "source": [
    "B_control_last15, N2_control_last15 = buoyancy(\"f5e-4_2km_1000km_control_3d.nc\",control_nomask_composite_last15)\n",
    "B_homoRad_last15, N2_homoRad_last15 = buoyancy(\"f5e-4_2km_1000km_homoRad_3d.nc\",homoRad_nomask_composite_last15)\n",
    "B_homoSfc_last15, N2_homoSfc_last15 = buoyancy(\"f5e-4_2km_1000km_homoSfc_3d.nc\",homoSfc_nomask_composite_last15)\n",
    "B_homoRad_homoSfc_last15, N2_homoRad_homoSfc_last15 = buoyancy(\"f5e-4_2km_1000km_homoRad_homoSfc_3d.nc\",homoAll_nomask_composite_last15);"
   ]
  },
  {
   "cell_type": "code",
   "execution_count": 13,
   "metadata": {},
   "outputs": [
    {
     "ename": "LoadError",
     "evalue": "UndefVarError: B_control_last15 not defined",
     "output_type": "error",
     "traceback": [
      "UndefVarError: B_control_last15 not defined",
      "",
      "Stacktrace:",
      " [1] top-level scope at In[13]:1",
      " [2] include_string(::Function, ::Module, ::String, ::String) at ./loading.jl:1091"
     ]
    }
   ],
   "source": [
    "B2_control_last15 = B_control_last15 .* B_control_last15\n",
    "B2_homoRad_last15 = B_homoRad_last15 .* B_homoRad_last15\n",
    "B2_homoSfc_last15 = B_homoSfc_last15 .* B_homoSfc_last15\n",
    "B2_homoRad_homoSfc_last15 = B_homoRad_homoSfc_last15 .* B_homoRad_homoSfc_last15;"
   ]
  },
  {
   "cell_type": "code",
   "execution_count": 14,
   "metadata": {},
   "outputs": [
    {
     "ename": "LoadError",
     "evalue": "UndefVarError: control_nomask_composite_last10 not defined",
     "output_type": "error",
     "traceback": [
      "UndefVarError: control_nomask_composite_last10 not defined",
      "",
      "Stacktrace:",
      " [1] top-level scope at In[14]:1",
      " [2] include_string(::Function, ::Module, ::String, ::String) at ./loading.jl:1091"
     ]
    }
   ],
   "source": [
    "B_control_last10, N2_control_last10 = buoyancy(\"f5e-4_2km_1000km_control_3d.nc\",control_nomask_composite_last10)\n",
    "B_homoRad_last10, N2_homoRad_last10 = buoyancy(\"f5e-4_2km_1000km_homoRad_3d.nc\",homoRad_nomask_composite_last10)\n",
    "B_homoSfc_last10, N2_homoSfc_last10 = buoyancy(\"f5e-4_2km_1000km_homoSfc_3d.nc\",homoSfc_nomask_composite_last10)\n",
    "B_homoRad_homoSfc_last10, N2_homoRad_homoSfc_last10 = buoyancy(\"f5e-4_2km_1000km_homoRad_homoSfc_3d.nc\",homoAll_nomask_composite_last10);"
   ]
  },
  {
   "cell_type": "code",
   "execution_count": 15,
   "metadata": {},
   "outputs": [
    {
     "ename": "LoadError",
     "evalue": "UndefVarError: B_control_last10 not defined",
     "output_type": "error",
     "traceback": [
      "UndefVarError: B_control_last10 not defined",
      "",
      "Stacktrace:",
      " [1] top-level scope at In[15]:1",
      " [2] include_string(::Function, ::Module, ::String, ::String) at ./loading.jl:1091"
     ]
    }
   ],
   "source": [
    "B2_control_last10 = B_control_last10 .* B_control_last10\n",
    "B2_homoRad_last10 = B_homoRad_last10 .* B_homoRad_last10\n",
    "B2_homoSfc_last10 = B_homoSfc_last10 .* B_homoSfc_last10\n",
    "B2_homoRad_homoSfc_last10 = B_homoRad_homoSfc_last10 .* B_homoRad_homoSfc_last10;"
   ]
  },
  {
   "cell_type": "code",
   "execution_count": 16,
   "metadata": {},
   "outputs": [
    {
     "data": {
      "text/plain": [
       "1:100"
      ]
     },
     "execution_count": 16,
     "metadata": {},
     "output_type": "execute_result"
    }
   ],
   "source": [
    "z_grd = 1e-3 .* [50 100 150 200 250 300 350 400 450 500 550 600 650 700 750 800 850 900 950 1000 1050 1178.57142857143 1385.71428571429 1671.42857142857 2035.71428571429 2478.57142857143 3000 3600 4200 4800 5400 6000 6600 7200 7800 8400 9000 9600 10200 10800 11400 12000 12600 13200 13800 14400 15000 15600 16200 16800 17400 18000 18600 19200 19800 20400 21000 21600 22200 22800 23400 24000 24600 25200 25800 26400 27000 27600 28200 28800 29400 30000 30600 31200 31800 32400 33000 33600 34200 34800];\n",
    "x = 1e-3collect(range(0,step=2000,length=255))\n",
    "y = x\n",
    "z_iter = 1:48;\n",
    "x_iter = 1:100"
   ]
  },
  {
   "cell_type": "code",
   "execution_count": 17,
   "metadata": {},
   "outputs": [],
   "source": [
    "PyPlot.matplotlib.rc(\"font\", family=\"sans-serif\",size=19)"
   ]
  },
  {
   "cell_type": "code",
   "execution_count": 18,
   "metadata": {},
   "outputs": [
    {
     "ename": "LoadError",
     "evalue": "UndefVarError: N2_control_last15 not defined",
     "output_type": "error",
     "traceback": [
      "UndefVarError: N2_control_last15 not defined",
      "",
      "Stacktrace:",
      " [1] top-level scope at In[18]:55",
      " [2] include_string(::Function, ::Module, ::String, ::String) at ./loading.jl:1091"
     ]
    }
   ],
   "source": [
    "#fig = figure(figsize=(2*3.74,4.5),dpi=400)\n",
    "fig = figure(figsize=(14.5,14.5),dpi=400)\n",
    "\n",
    "gs = fig.add_gridspec(2,3)\n",
    "\n",
    "\n",
    "element(i,j) = get(gs, (i,j))\n",
    "slice(i,j) = pycall(pybuiltin(\"slice\"), PyObject, i,j)\n",
    "\n",
    "ax1 = fig.add_subplot(element(0,0))\n",
    "ax2 = fig.add_subplot(element(0,1))\n",
    "ax3 = fig.add_subplot(element(0,2))\n",
    "\n",
    "ax4 = fig.add_subplot(element(1,0))\n",
    "ax5 = fig.add_subplot(element(1,1))\n",
    "ax6 = fig.add_subplot(element(1,2))\n",
    "\n",
    "ax2.set_yticklabels([])\n",
    "ax3.set_yticklabels([])\n",
    "ax5.set_yticklabels([])\n",
    "ax6.set_yticklabels([])\n",
    "\n",
    "\n",
    "ax1.set_title(\"N2 50 days\")\n",
    "ax2.set_title(\"N2 last 15 days\")\n",
    "ax3.set_title(\"N2 last 10 days\")\n",
    "\n",
    "ax4.set_title(\"B2 50 days\")\n",
    "ax5.set_title(\"B2 last 15 days\")\n",
    "ax6.set_title(\"B2 last 10 days\")\n",
    "\n",
    "ax1.set_ylabel(string(\"z (km)\"))\n",
    "ax4.set_ylabel(string(\"z (km)\"))\n",
    "ax1.set_xlabel(string(\"N2 (s^{-2})\"))\n",
    "ax2.set_xlabel(string(\"N2 (s^{-2})\"))\n",
    "ax3.set_xlabel(string(\"N2 (s^{-2})\"))\n",
    "\n",
    "ax4.set_xlabel(string(\"B2 (s^{-2})\"))\n",
    "ax5.set_xlabel(string(\"B2 (s^{-2})\"))\n",
    "ax6.set_xlabel(string(\"B2 (s^{-2})\"))\n",
    "\n",
    "ax1.plot(mean(N2_control,dims=2)[z_iter],z_grd[z_iter],label=\"control\")\n",
    "ax1.plot(mean(N2_homoRad,dims=2)[z_iter],z_grd[z_iter],label=\"homoRad\")\n",
    "ax1.plot(mean(N2_homoSfc,dims=2)[z_iter],z_grd[z_iter],label=\"homoSfc\")\n",
    "ax1.plot(mean(N2_homoRad_homoSfc,dims=2)[z_iter],z_grd[z_iter],label=\"homoAll\")\n",
    "\n",
    "ax4.plot(dropdims(mean(B2_control,dims=(1,2)),dims=(1,2,4))[z_iter],z_grd[z_iter],label=\"_nolegend_\")\n",
    "ax4.plot(dropdims(mean(B2_homoRad,dims=(1,2)),dims=(1,2,4))[z_iter],z_grd[z_iter],label=\"_nolegend_\")\n",
    "ax4.plot(dropdims(mean(B2_homoSfc,dims=(1,2)),dims=(1,2,4))[z_iter],z_grd[z_iter],label=\"_nolegend_\")\n",
    "ax4.plot(dropdims(mean(B2_homoRad_homoSfc,dims=(1,2)),dims=(1,2,4))[z_iter],z_grd[z_iter],label=\"_nolegend_\")\n",
    "\n",
    "\n",
    "############\n",
    "\n",
    "ax2.plot(mean(N2_control_last15,dims=2)[z_iter],z_grd[z_iter],label=\"_nolegend_\", color = \"C0\")\n",
    "ax2.plot(mean(N2_homoRad_last15,dims=2)[z_iter],z_grd[z_iter],label=\"_nolegend_\", color = \"C1\")\n",
    "ax2.plot(mean(N2_homoSfc_last15,dims=2)[z_iter],z_grd[z_iter],label=\"_nolegend_\", color = \"C2\")\n",
    "ax2.plot(mean(N2_homoRad_homoSfc_last15,dims=2)[z_iter],z_grd[z_iter],label=\"_nolegend_\", color = \"C3\")\n",
    "\n",
    "\n",
    "ax5.plot(dropdims(mean(B2_control_last15,dims=(1,2)),dims=(1,2,4))[z_iter],z_grd[z_iter],label=\"_nolegend_\", color = \"C0\")\n",
    "ax5.plot(dropdims(mean(B2_homoRad_last15,dims=(1,2)),dims=(1,2,4))[z_iter],z_grd[z_iter],label=\"_nolegend_\", color = \"C1\")\n",
    "ax5.plot(dropdims(mean(B2_homoSfc_last15,dims=(1,2)),dims=(1,2,4))[z_iter],z_grd[z_iter],label=\"_nolegend_\", color = \"C\")\n",
    "ax5.plot(dropdims(mean(B2_homoRad_homoSfc_last15,dims=(1,2)),dims=(1,2,4))[z_iter],z_grd[z_iter],label=\"_nolegend_\", color = \"C3\")\n",
    "\n",
    "############\n",
    "\n",
    "ax3.plot(mean(N2_control_last10,dims=2)[z_iter],z_grd[z_iter],label=\"_nolegend_\", color = \"C0\")\n",
    "ax3.plot(mean(N2_homoRad_last10,dims=2)[z_iter],z_grd[z_iter],label=\"_nolegend_\", color = \"C1\")\n",
    "ax3.plot(mean(N2_homoSfc_last10,dims=2)[z_iter],z_grd[z_iter],label=\"_nolegend_\", color = \"C2\")\n",
    "ax3.plot(mean(N2_homoRad_homoSfc_last10,dims=2)[z_iter],z_grd[z_iter],label=\"_nolegend_\", color = \"C3\")\n",
    "\n",
    "\n",
    "ax6.plot(dropdims(mean(B2_control_last10,dims=(1,2)),dims=(1,2,4))[z_iter],z_grd[z_iter],label=\"_nolegend_\", color = \"C0\")\n",
    "ax6.plot(dropdims(mean(B2_homoRad_last10,dims=(1,2)),dims=(1,2,4))[z_iter],z_grd[z_iter],label=\"_nolegend_\", color = \"C1\")\n",
    "ax6.plot(dropdims(mean(B2_homoSfc_last10,dims=(1,2)),dims=(1,2,4))[z_iter],z_grd[z_iter],label=\"_nolegend_\", color = \"C2\")\n",
    "ax6.plot(dropdims(mean(B2_homoRad_homoSfc_last10,dims=(1,2)),dims=(1,2,4))[z_iter],z_grd[z_iter],label=\"_nolegend_\", color = \"C3\")\n",
    "\n",
    "#ax3.legend(ncol=1 ,frameon=false)\n",
    "\n",
    "handles, labels = ax1.get_legend_handles_labels()\n",
    "fig.legend(handles,labels, loc = (0.1, 1), ncol=4 ,frameon=false,fontsize=14)\n",
    "\n",
    "fig.suptitle(\"Mean B2 and N2 from composites considering different periods\")\n",
    "\n",
    "# ax1.axhline(y=15, color=\"r\", linestyle=\"-\",linewidth = 0.5)\n",
    "# ax2.axhline(y=15, color=\"r\", linestyle=\"-\",linewidth = 0.5)\n",
    "\n",
    "# ax1.axhline(y=15.6, color=\"C0\", linestyle=\":\",linewidth = 0.5)\n",
    "# ax1.axhline(y=16.6, color=\"C1\", linestyle=\":\",linewidth = 0.5)\n",
    "# ax1.axhline(y=14, color=\"C2\", linestyle=\":\",linewidth = 0.5)\n",
    "\n",
    "# ax2.axhline(y=15.6, color=\"C0\", linestyle=\":\",linewidth = 0.5)\n",
    "# ax2.axhline(y=16.6, color=\"C1\", linestyle=\":\",linewidth = 0.5)\n",
    "# ax2.axhline(y=14, color=\"C2\", linestyle=\":\",linewidth = 0.5)\n",
    "#ax1.legend(loc = (0.1, 1), ncol=4 ,frameon=false,fontsize=14) \n",
    "\n",
    "\n",
    "plt.tight_layout(rect=[0, 0.03, 1, 0.95])"
   ]
  },
  {
   "cell_type": "code",
   "execution_count": 20,
   "metadata": {},
   "outputs": [
    {
     "data": {
      "text/plain": [
       "rossby_radius_of_deformation (generic function with 1 method)"
      ]
     },
     "execution_count": 20,
     "metadata": {},
     "output_type": "execute_result"
    }
   ],
   "source": [
    "function rossby_radius_of_deformation(brunt_vaisala,tropopause_height,coriolis_parameter)\n",
    "    return brunt_vaisala*tropopause_height/coriolis_parameter\n",
    "end"
   ]
  },
  {
   "cell_type": "code",
   "execution_count": 22,
   "metadata": {},
   "outputs": [
    {
     "data": {
      "text/plain": [
       "1×80 Array{Float64,2}:\n",
       " 0.05  0.1  0.15  0.2  0.25  0.3  0.35  …  31.8  32.4  33.0  33.6  34.2  34.8"
      ]
     },
     "execution_count": 22,
     "metadata": {},
     "output_type": "execute_result"
    }
   ],
   "source": [
    "z_grd"
   ]
  },
  {
   "cell_type": "code",
   "execution_count": 27,
   "metadata": {},
   "outputs": [
    {
     "data": {
      "text/plain": [
       "25"
      ]
     },
     "execution_count": 27,
     "metadata": {},
     "output_type": "execute_result"
    }
   ],
   "source": [
    "tropo_id_control = findfirst(>(15.69),z_grd)[2] - 1\n",
    "tropo_id_homoRad = findfirst(>(16.06),z_grd)[2] - 1\n",
    "tropo_id_homoSfc = findfirst(>(14.99),z_grd)[2] - 1\n",
    "tropo_id_homoAll = findfirst(>(14.46),z_grd)[2] - 1\n",
    "first_tropo = findfirst(>(2),z_grd)[2]"
   ]
  },
  {
   "cell_type": "code",
   "execution_count": null,
   "metadata": {},
   "outputs": [],
   "source": [
    "mean(tropopause_control[end - 480:end]) = 15698.545f0\n",
    "mean(tropopause_homoRad[end - 480:end]) = 16066.528f0\n",
    "mean(tropopause_homoSfc[end - 480:end]) = 14997.505f0\n",
    "mean(tropopause_homoAll[end - 480:end]) = 14446.154f0"
   ]
  },
  {
   "cell_type": "code",
   "execution_count": 33,
   "metadata": {},
   "outputs": [
    {
     "data": {
      "text/plain": [
       "0.010578800795536037"
      ]
     },
     "execution_count": 33,
     "metadata": {},
     "output_type": "execute_result"
    }
   ],
   "source": [
    "N_control = sqrt(mean(N2_control[first_tropo:tropo_id_control]))\n",
    "N_homoRad = sqrt(mean(N2_homoRad[first_tropo:tropo_id_homoRad]))\n",
    "N_homoSfc = sqrt(mean(N2_homoSfc[first_tropo:tropo_id_homoSfc]))\n",
    "N_homoAll = sqrt(mean(N2_homoRad_homoSfc[first_tropo:tropo_id_homoAll]))"
   ]
  },
  {
   "cell_type": "code",
   "execution_count": 35,
   "metadata": {},
   "outputs": [
    {
     "name": "stdout",
     "output_type": "stream",
     "text": [
      "r0_control = rossby_radius_of_deformation(N_control, 15698.54, 0.000497) = 386123.471809889\n",
      "r0_homoRad = rossby_radius_of_deformation(N_homoRad, 16066.52, 0.000497) = 397101.3800700239\n",
      "r0_homoSfc = rossby_radius_of_deformation(N_homoSfc, 14997.5, 0.000497) = 335708.0804696982\n",
      "r0_homoAll = rossby_radius_of_deformation(N_homoAll, 14446, 0.000497) = 307487.63841511786\n"
     ]
    },
    {
     "data": {
      "text/plain": [
       "307487.63841511786"
      ]
     },
     "execution_count": 35,
     "metadata": {},
     "output_type": "execute_result"
    }
   ],
   "source": [
    "@show r0_control = rossby_radius_of_deformation(N_control,15698.54,4.97e-4)\n",
    "@show r0_homoRad = rossby_radius_of_deformation(N_homoRad,16066.52,4.97e-4)\n",
    "@show r0_homoSfc = rossby_radius_of_deformation(N_homoSfc,14997.50,4.97e-4)\n",
    "@show r0_homoAll = rossby_radius_of_deformation(N_homoAll,14446,4.97e-4)"
   ]
  },
  {
   "cell_type": "code",
   "execution_count": 36,
   "metadata": {},
   "outputs": [
    {
     "name": "stdout",
     "output_type": "stream",
     "text": [
      "r0_control = rossby_radius_of_deformation(N_control, 15698.54, 0.0003) = 639677.8849650496\n",
      "r0_homoRad = rossby_radius_of_deformation(N_homoRad, 16066.52, 0.0003) = 657864.6196493396\n",
      "r0_homoSfc = rossby_radius_of_deformation(N_homoSfc, 14997.5, 0.0003) = 556156.3866448001\n",
      "r0_homoAll = rossby_radius_of_deformation(N_homoAll, 14446, 0.0003) = 509404.5209743787\n"
     ]
    },
    {
     "data": {
      "text/plain": [
       "509404.5209743787"
      ]
     },
     "execution_count": 36,
     "metadata": {},
     "output_type": "execute_result"
    }
   ],
   "source": [
    "@show r0_control = rossby_radius_of_deformation(N_control,15698.54,3.0e-4)\n",
    "@show r0_homoRad = rossby_radius_of_deformation(N_homoRad,16066.52,3.0e-4)\n",
    "@show r0_homoSfc = rossby_radius_of_deformation(N_homoSfc,14997.50,3.0e-4)\n",
    "@show r0_homoAll = rossby_radius_of_deformation(N_homoAll,14446,3.0e-4)"
   ]
  },
  {
   "cell_type": "code",
   "execution_count": 37,
   "metadata": {},
   "outputs": [
    {
     "name": "stdout",
     "output_type": "stream",
     "text": [
      "r0_control = rossby_radius_of_deformation(N_control, 15698.54, 0.0001) = 1.9190336548951487e6\n",
      "r0_homoRad = rossby_radius_of_deformation(N_homoRad, 16066.52, 0.0001) = 1.9735938589480186e6\n",
      "r0_homoSfc = rossby_radius_of_deformation(N_homoSfc, 14997.5, 0.0001) = 1.6684691599343999e6\n",
      "r0_homoAll = rossby_radius_of_deformation(N_homoAll, 14446, 0.0001) = 1.528213562923136e6\n"
     ]
    },
    {
     "data": {
      "text/plain": [
       "1.528213562923136e6"
      ]
     },
     "execution_count": 37,
     "metadata": {},
     "output_type": "execute_result"
    }
   ],
   "source": [
    "@show r0_control = rossby_radius_of_deformation(N_control,15698.54,1.0e-4)\n",
    "@show r0_homoRad = rossby_radius_of_deformation(N_homoRad,16066.52,1.0e-4)\n",
    "@show r0_homoSfc = rossby_radius_of_deformation(N_homoSfc,14997.50,1.0e-4)\n",
    "@show r0_homoAll = rossby_radius_of_deformation(N_homoAll,14446,1.0e-4)"
   ]
  },
  {
   "cell_type": "code",
   "execution_count": null,
   "metadata": {},
   "outputs": [],
   "source": []
  }
 ],
 "metadata": {
  "kernelspec": {
   "display_name": "Julia 1.5.1",
   "language": "julia",
   "name": "julia-1.5"
  },
  "language_info": {
   "file_extension": ".jl",
   "mimetype": "application/julia",
   "name": "julia",
   "version": "1.5.1"
  }
 },
 "nbformat": 4,
 "nbformat_minor": 4
}
